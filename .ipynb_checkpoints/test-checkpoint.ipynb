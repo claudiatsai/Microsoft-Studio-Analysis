{
 "cells": [
  {
   "cell_type": "markdown",
   "id": "c972997c",
   "metadata": {},
   "source": [
    "# Microsoft Movie Studio Analysis"
   ]
  },
  {
   "cell_type": "markdown",
   "id": "4810f400",
   "metadata": {},
   "source": [
    "## Business Problem\n",
    "<br>\n",
    "Microsoft sees all the big companies creating original video content and they want to get in on the fun. They have decided to create a new movie studio, but they don’t know anything about creating movies. You are charged with exploring what types of films are currently doing the best at the box office. You must then translate those findings into actionable insights that the head of Microsoft's new movie studio can use to help decide what type of films to create."
   ]
  },
  {
   "cell_type": "markdown",
   "id": "5ba59d52",
   "metadata": {},
   "source": [
    "## Goals\n",
    "1.Find out the most profitable genres of films\n",
    "<br>\n",
    "2.Find out when to release the film to get highest ROI \n",
    "<br>\n",
    "3.What production budget range is more profitable for movies?"
   ]
  },
  {
   "cell_type": "markdown",
   "id": "ca63a966",
   "metadata": {},
   "source": [
    "## Data Sources\n",
    "Box Office Mojo, IMDB and The Numbers\n"
   ]
  },
  {
   "cell_type": "markdown",
   "id": "ae584f21",
   "metadata": {},
   "source": [
    "## Programming Language and Libraries\n",
    "Python, Numpy, Pandas, Matplotlib and Seaborn"
   ]
  },
  {
   "cell_type": "markdown",
   "id": "e2e6418c",
   "metadata": {},
   "source": [
    "## Data Analysis\n",
    "\n",
    "### The Month with Highest Domestic ROI "
   ]
  },
  {
   "cell_type": "code",
   "execution_count": null,
   "id": "a4309878",
   "metadata": {},
   "outputs": [],
   "source": []
  },
  {
   "cell_type": "markdown",
   "id": "d837e066",
   "metadata": {},
   "source": [
    "![alt text here](image/d_roi_month.jpg)"
   ]
  },
  {
   "cell_type": "markdown",
   "id": "187e7fd4",
   "metadata": {},
   "source": [
    "## Recommendation"
   ]
  },
  {
   "cell_type": "markdown",
   "id": "d0bee2bc",
   "metadata": {},
   "source": [
    "## Next Steps\n",
    "Further analyses could yield additional insights to movies' net profit:\n"
   ]
  },
  {
   "cell_type": "code",
   "execution_count": null,
   "id": "f2eca9c2",
   "metadata": {},
   "outputs": [],
   "source": []
  }
 ],
 "metadata": {
  "kernelspec": {
   "display_name": "Python 3",
   "language": "python",
   "name": "python3"
  },
  "language_info": {
   "codemirror_mode": {
    "name": "ipython",
    "version": 3
   },
   "file_extension": ".py",
   "mimetype": "text/x-python",
   "name": "python",
   "nbconvert_exporter": "python",
   "pygments_lexer": "ipython3",
   "version": "3.8.8"
  },
  "toc": {
   "base_numbering": 1,
   "nav_menu": {},
   "number_sections": false,
   "sideBar": true,
   "skip_h1_title": false,
   "title_cell": "Table of Contents",
   "title_sidebar": "Contents",
   "toc_cell": false,
   "toc_position": {},
   "toc_section_display": true,
   "toc_window_display": true
  }
 },
 "nbformat": 4,
 "nbformat_minor": 5
}

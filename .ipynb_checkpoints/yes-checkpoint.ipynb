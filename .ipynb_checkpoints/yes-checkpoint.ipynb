{
 "cells": [
  {
   "cell_type": "markdown",
   "metadata": {},
   "source": [
    "# Final Project Submission\n",
    "\n",
    "Please fill out:\n",
    "* Student name: Claudia Tsai\n",
    "* Student pace: self paced \n",
    "* Scheduled project review date/time: 11/18 1:30pm\n",
    "* Instructor name: Joel\n",
    "* Blog post URL:\n"
   ]
  },
  {
   "cell_type": "markdown",
   "metadata": {},
   "source": [
    "# Business Problem\n",
    "Microsoft sees all the big companies creating original video content and they want to get in on the fun. They have decided to create a new movie studio, but they don’t know anything about creating movies. You are charged with exploring what types of films are currently doing the best at the box office. You must then translate those findings into actionable insights that the head of Microsoft's new movie studio can use to help decide what type of films to create."
   ]
  },
  {
   "cell_type": "markdown",
   "metadata": {},
   "source": [
    "# Goals\n",
    "1.What is the most profitable genres of films\n",
    "<br>\n",
    "2.When to release the film to get most profit\n",
    "<br>\n",
    "3.What production budget range is more profitable for movies?"
   ]
  },
  {
   "cell_type": "markdown",
   "metadata": {},
   "source": [
    "# Importing the libraries"
   ]
  },
  {
   "cell_type": "code",
   "execution_count": 1,
   "metadata": {},
   "outputs": [],
   "source": [
    "import pandas as pd\n",
    "import numpy as np\n",
    "import seaborn as sns\n",
    "import datetime\n",
    "import matplotlib.pyplot as plt\n",
    "import warnings\n",
    "warnings.filterwarnings('ignore')\n",
    "%matplotlib inline"
   ]
  },
  {
   "cell_type": "code",
   "execution_count": 2,
   "metadata": {},
   "outputs": [],
   "source": [
    "pd.set_option('display.float_format', lambda x: '%.3f' % x)"
   ]
  },
  {
   "cell_type": "markdown",
   "metadata": {},
   "source": [
    "# Importing datasets \n",
    "In this project, I use the following dataset to do analysis.\n",
    "<br>\n",
    "1.title.basics.csv\n",
    "<br>\n",
    "2.title.ratings.csv\n",
    "<br>\n",
    "3.movie_gross\n",
    "<br>\n",
    "4.budgets\n"
   ]
  },
  {
   "cell_type": "code",
   "execution_count": 3,
   "metadata": {},
   "outputs": [
    {
     "name": "stdout",
     "output_type": "stream",
     "text": [
      "<class 'pandas.core.frame.DataFrame'>\n",
      "RangeIndex: 146144 entries, 0 to 146143\n",
      "Data columns (total 6 columns):\n",
      " #   Column           Non-Null Count   Dtype  \n",
      "---  ------           --------------   -----  \n",
      " 0   tconst           146144 non-null  object \n",
      " 1   primary_title    146144 non-null  object \n",
      " 2   original_title   146123 non-null  object \n",
      " 3   start_year       146144 non-null  int64  \n",
      " 4   runtime_minutes  114405 non-null  float64\n",
      " 5   genres           140736 non-null  object \n",
      "dtypes: float64(1), int64(1), object(4)\n",
      "memory usage: 6.7+ MB\n"
     ]
    }
   ],
   "source": [
    "#Getting basic information of the dataset\n",
    "title_df = pd.read_csv('data/title.basics.csv')\n",
    "title_df.info()"
   ]
  },
  {
   "cell_type": "code",
   "execution_count": 4,
   "metadata": {},
   "outputs": [
    {
     "data": {
      "text/html": [
       "<div>\n",
       "<style scoped>\n",
       "    .dataframe tbody tr th:only-of-type {\n",
       "        vertical-align: middle;\n",
       "    }\n",
       "\n",
       "    .dataframe tbody tr th {\n",
       "        vertical-align: top;\n",
       "    }\n",
       "\n",
       "    .dataframe thead th {\n",
       "        text-align: right;\n",
       "    }\n",
       "</style>\n",
       "<table border=\"1\" class=\"dataframe\">\n",
       "  <thead>\n",
       "    <tr style=\"text-align: right;\">\n",
       "      <th></th>\n",
       "      <th>tconst</th>\n",
       "      <th>primary_title</th>\n",
       "      <th>original_title</th>\n",
       "      <th>start_year</th>\n",
       "      <th>runtime_minutes</th>\n",
       "      <th>genres</th>\n",
       "    </tr>\n",
       "  </thead>\n",
       "  <tbody>\n",
       "    <tr>\n",
       "      <th>0</th>\n",
       "      <td>tt0063540</td>\n",
       "      <td>Sunghursh</td>\n",
       "      <td>Sunghursh</td>\n",
       "      <td>2013</td>\n",
       "      <td>175.000</td>\n",
       "      <td>Action,Crime,Drama</td>\n",
       "    </tr>\n",
       "    <tr>\n",
       "      <th>1</th>\n",
       "      <td>tt0066787</td>\n",
       "      <td>One Day Before the Rainy Season</td>\n",
       "      <td>Ashad Ka Ek Din</td>\n",
       "      <td>2019</td>\n",
       "      <td>114.000</td>\n",
       "      <td>Biography,Drama</td>\n",
       "    </tr>\n",
       "    <tr>\n",
       "      <th>2</th>\n",
       "      <td>tt0069049</td>\n",
       "      <td>The Other Side of the Wind</td>\n",
       "      <td>The Other Side of the Wind</td>\n",
       "      <td>2018</td>\n",
       "      <td>122.000</td>\n",
       "      <td>Drama</td>\n",
       "    </tr>\n",
       "    <tr>\n",
       "      <th>3</th>\n",
       "      <td>tt0069204</td>\n",
       "      <td>Sabse Bada Sukh</td>\n",
       "      <td>Sabse Bada Sukh</td>\n",
       "      <td>2018</td>\n",
       "      <td>NaN</td>\n",
       "      <td>Comedy,Drama</td>\n",
       "    </tr>\n",
       "    <tr>\n",
       "      <th>4</th>\n",
       "      <td>tt0100275</td>\n",
       "      <td>The Wandering Soap Opera</td>\n",
       "      <td>La Telenovela Errante</td>\n",
       "      <td>2017</td>\n",
       "      <td>80.000</td>\n",
       "      <td>Comedy,Drama,Fantasy</td>\n",
       "    </tr>\n",
       "  </tbody>\n",
       "</table>\n",
       "</div>"
      ],
      "text/plain": [
       "      tconst                    primary_title              original_title  \\\n",
       "0  tt0063540                        Sunghursh                   Sunghursh   \n",
       "1  tt0066787  One Day Before the Rainy Season             Ashad Ka Ek Din   \n",
       "2  tt0069049       The Other Side of the Wind  The Other Side of the Wind   \n",
       "3  tt0069204                  Sabse Bada Sukh             Sabse Bada Sukh   \n",
       "4  tt0100275         The Wandering Soap Opera       La Telenovela Errante   \n",
       "\n",
       "   start_year  runtime_minutes                genres  \n",
       "0        2013          175.000    Action,Crime,Drama  \n",
       "1        2019          114.000       Biography,Drama  \n",
       "2        2018          122.000                 Drama  \n",
       "3        2018              NaN          Comedy,Drama  \n",
       "4        2017           80.000  Comedy,Drama,Fantasy  "
      ]
     },
     "execution_count": 4,
     "metadata": {},
     "output_type": "execute_result"
    }
   ],
   "source": [
    "title_df.head()"
   ]
  },
  {
   "cell_type": "code",
   "execution_count": 5,
   "metadata": {},
   "outputs": [
    {
     "data": {
      "text/plain": [
       "0"
      ]
     },
     "execution_count": 5,
     "metadata": {},
     "output_type": "execute_result"
    }
   ],
   "source": [
    "title_df.duplicated().sum()"
   ]
  },
  {
   "cell_type": "code",
   "execution_count": 6,
   "metadata": {},
   "outputs": [
    {
     "name": "stdout",
     "output_type": "stream",
     "text": [
      "<class 'pandas.core.frame.DataFrame'>\n",
      "RangeIndex: 73856 entries, 0 to 73855\n",
      "Data columns (total 3 columns):\n",
      " #   Column         Non-Null Count  Dtype  \n",
      "---  ------         --------------  -----  \n",
      " 0   tconst         73856 non-null  object \n",
      " 1   averagerating  73856 non-null  float64\n",
      " 2   numvotes       73856 non-null  int64  \n",
      "dtypes: float64(1), int64(1), object(1)\n",
      "memory usage: 1.7+ MB\n"
     ]
    }
   ],
   "source": [
    "#Getting basic information of the dataset\n",
    "rating_df = pd.read_csv('data/title.ratings.csv')\n",
    "rating_df.info()"
   ]
  },
  {
   "cell_type": "code",
   "execution_count": 7,
   "metadata": {},
   "outputs": [
    {
     "data": {
      "text/plain": [
       "0"
      ]
     },
     "execution_count": 7,
     "metadata": {},
     "output_type": "execute_result"
    }
   ],
   "source": [
    "rating_df.duplicated().sum()"
   ]
  },
  {
   "cell_type": "code",
   "execution_count": 8,
   "metadata": {
    "scrolled": true
   },
   "outputs": [
    {
     "name": "stdout",
     "output_type": "stream",
     "text": [
      "<class 'pandas.core.frame.DataFrame'>\n",
      "RangeIndex: 3387 entries, 0 to 3386\n",
      "Data columns (total 5 columns):\n",
      " #   Column          Non-Null Count  Dtype  \n",
      "---  ------          --------------  -----  \n",
      " 0   title           3387 non-null   object \n",
      " 1   studio          3382 non-null   object \n",
      " 2   domestic_gross  3359 non-null   float64\n",
      " 3   foreign_gross   2037 non-null   object \n",
      " 4   year            3387 non-null   int64  \n",
      "dtypes: float64(1), int64(1), object(3)\n",
      "memory usage: 132.4+ KB\n"
     ]
    }
   ],
   "source": [
    "#Getting basic information of the dataset\n",
    "movie_gross_df = pd.read_csv('data/bom.movie_gross.csv')\n",
    "movie_gross_df.info()"
   ]
  },
  {
   "cell_type": "code",
   "execution_count": 9,
   "metadata": {},
   "outputs": [
    {
     "name": "stdout",
     "output_type": "stream",
     "text": [
      "<class 'pandas.core.frame.DataFrame'>\n",
      "RangeIndex: 5782 entries, 0 to 5781\n",
      "Data columns (total 6 columns):\n",
      " #   Column             Non-Null Count  Dtype \n",
      "---  ------             --------------  ----- \n",
      " 0   id                 5782 non-null   int64 \n",
      " 1   release_date       5782 non-null   object\n",
      " 2   movie              5782 non-null   object\n",
      " 3   production_budget  5782 non-null   object\n",
      " 4   domestic_gross     5782 non-null   object\n",
      " 5   worldwide_gross    5782 non-null   object\n",
      "dtypes: int64(1), object(5)\n",
      "memory usage: 271.2+ KB\n"
     ]
    }
   ],
   "source": [
    "#Getting basic information of the dataset\n",
    "budgets_df = pd.read_csv('data/tn.movie_budgets.csv')\n",
    "budgets_df.info()"
   ]
  },
  {
   "cell_type": "code",
   "execution_count": 10,
   "metadata": {},
   "outputs": [
    {
     "data": {
      "text/plain": [
       "0"
      ]
     },
     "execution_count": 10,
     "metadata": {},
     "output_type": "execute_result"
    }
   ],
   "source": [
    "budgets_df.duplicated().sum()"
   ]
  },
  {
   "cell_type": "code",
   "execution_count": 11,
   "metadata": {},
   "outputs": [
    {
     "data": {
      "text/html": [
       "<div>\n",
       "<style scoped>\n",
       "    .dataframe tbody tr th:only-of-type {\n",
       "        vertical-align: middle;\n",
       "    }\n",
       "\n",
       "    .dataframe tbody tr th {\n",
       "        vertical-align: top;\n",
       "    }\n",
       "\n",
       "    .dataframe thead th {\n",
       "        text-align: right;\n",
       "    }\n",
       "</style>\n",
       "<table border=\"1\" class=\"dataframe\">\n",
       "  <thead>\n",
       "    <tr style=\"text-align: right;\">\n",
       "      <th></th>\n",
       "      <th>id</th>\n",
       "      <th>release_date</th>\n",
       "      <th>movie</th>\n",
       "      <th>production_budget</th>\n",
       "      <th>domestic_gross</th>\n",
       "      <th>worldwide_gross</th>\n",
       "    </tr>\n",
       "  </thead>\n",
       "  <tbody>\n",
       "    <tr>\n",
       "      <th>0</th>\n",
       "      <td>1</td>\n",
       "      <td>Dec 18, 2009</td>\n",
       "      <td>Avatar</td>\n",
       "      <td>$425,000,000</td>\n",
       "      <td>$760,507,625</td>\n",
       "      <td>$2,776,345,279</td>\n",
       "    </tr>\n",
       "    <tr>\n",
       "      <th>1</th>\n",
       "      <td>2</td>\n",
       "      <td>May 20, 2011</td>\n",
       "      <td>Pirates of the Caribbean: On Stranger Tides</td>\n",
       "      <td>$410,600,000</td>\n",
       "      <td>$241,063,875</td>\n",
       "      <td>$1,045,663,875</td>\n",
       "    </tr>\n",
       "    <tr>\n",
       "      <th>2</th>\n",
       "      <td>3</td>\n",
       "      <td>Jun 7, 2019</td>\n",
       "      <td>Dark Phoenix</td>\n",
       "      <td>$350,000,000</td>\n",
       "      <td>$42,762,350</td>\n",
       "      <td>$149,762,350</td>\n",
       "    </tr>\n",
       "    <tr>\n",
       "      <th>3</th>\n",
       "      <td>4</td>\n",
       "      <td>May 1, 2015</td>\n",
       "      <td>Avengers: Age of Ultron</td>\n",
       "      <td>$330,600,000</td>\n",
       "      <td>$459,005,868</td>\n",
       "      <td>$1,403,013,963</td>\n",
       "    </tr>\n",
       "    <tr>\n",
       "      <th>4</th>\n",
       "      <td>5</td>\n",
       "      <td>Dec 15, 2017</td>\n",
       "      <td>Star Wars Ep. VIII: The Last Jedi</td>\n",
       "      <td>$317,000,000</td>\n",
       "      <td>$620,181,382</td>\n",
       "      <td>$1,316,721,747</td>\n",
       "    </tr>\n",
       "  </tbody>\n",
       "</table>\n",
       "</div>"
      ],
      "text/plain": [
       "   id  release_date                                        movie  \\\n",
       "0   1  Dec 18, 2009                                       Avatar   \n",
       "1   2  May 20, 2011  Pirates of the Caribbean: On Stranger Tides   \n",
       "2   3   Jun 7, 2019                                 Dark Phoenix   \n",
       "3   4   May 1, 2015                      Avengers: Age of Ultron   \n",
       "4   5  Dec 15, 2017            Star Wars Ep. VIII: The Last Jedi   \n",
       "\n",
       "  production_budget domestic_gross worldwide_gross  \n",
       "0      $425,000,000   $760,507,625  $2,776,345,279  \n",
       "1      $410,600,000   $241,063,875  $1,045,663,875  \n",
       "2      $350,000,000    $42,762,350    $149,762,350  \n",
       "3      $330,600,000   $459,005,868  $1,403,013,963  \n",
       "4      $317,000,000   $620,181,382  $1,316,721,747  "
      ]
     },
     "execution_count": 11,
     "metadata": {},
     "output_type": "execute_result"
    }
   ],
   "source": [
    "budgets_df.head()"
   ]
  },
  {
   "cell_type": "markdown",
   "metadata": {},
   "source": [
    "# Data Preparation"
   ]
  },
  {
   "cell_type": "markdown",
   "metadata": {},
   "source": [
    "## Managing budgets dataset"
   ]
  },
  {
   "cell_type": "code",
   "execution_count": 12,
   "metadata": {},
   "outputs": [],
   "source": [
    "#Renaming column  \"movie\" to \"primary_title\",so the budgets_df could be merged with title_df.\n",
    "budgets_df = budgets_df.rename({'movie':'primary_title'},axis=1)\n"
   ]
  },
  {
   "cell_type": "code",
   "execution_count": 13,
   "metadata": {},
   "outputs": [
    {
     "data": {
      "text/plain": [
       "0   2009-12-18\n",
       "1   2011-05-20\n",
       "2   2019-06-07\n",
       "3   2015-05-01\n",
       "4   2017-12-15\n",
       "Name: release_date, dtype: datetime64[ns]"
      ]
     },
     "execution_count": 13,
     "metadata": {},
     "output_type": "execute_result"
    }
   ],
   "source": [
    "# Converting the release_date columns type to datetime. \n",
    "budgets_df['release_date'] = pd.to_datetime(budgets_df['release_date'])\n",
    "budgets_df['release_date'].head()"
   ]
  },
  {
   "cell_type": "code",
   "execution_count": 14,
   "metadata": {},
   "outputs": [
    {
     "data": {
      "text/html": [
       "<div>\n",
       "<style scoped>\n",
       "    .dataframe tbody tr th:only-of-type {\n",
       "        vertical-align: middle;\n",
       "    }\n",
       "\n",
       "    .dataframe tbody tr th {\n",
       "        vertical-align: top;\n",
       "    }\n",
       "\n",
       "    .dataframe thead th {\n",
       "        text-align: right;\n",
       "    }\n",
       "</style>\n",
       "<table border=\"1\" class=\"dataframe\">\n",
       "  <thead>\n",
       "    <tr style=\"text-align: right;\">\n",
       "      <th></th>\n",
       "      <th>id</th>\n",
       "      <th>release_date</th>\n",
       "      <th>primary_title</th>\n",
       "      <th>production_budget</th>\n",
       "      <th>domestic_gross</th>\n",
       "      <th>worldwide_gross</th>\n",
       "      <th>release_year</th>\n",
       "      <th>release_month</th>\n",
       "    </tr>\n",
       "  </thead>\n",
       "  <tbody>\n",
       "    <tr>\n",
       "      <th>0</th>\n",
       "      <td>1</td>\n",
       "      <td>2009-12-18</td>\n",
       "      <td>Avatar</td>\n",
       "      <td>$425,000,000</td>\n",
       "      <td>$760,507,625</td>\n",
       "      <td>$2,776,345,279</td>\n",
       "      <td>2009</td>\n",
       "      <td>12</td>\n",
       "    </tr>\n",
       "    <tr>\n",
       "      <th>1</th>\n",
       "      <td>2</td>\n",
       "      <td>2011-05-20</td>\n",
       "      <td>Pirates of the Caribbean: On Stranger Tides</td>\n",
       "      <td>$410,600,000</td>\n",
       "      <td>$241,063,875</td>\n",
       "      <td>$1,045,663,875</td>\n",
       "      <td>2011</td>\n",
       "      <td>5</td>\n",
       "    </tr>\n",
       "    <tr>\n",
       "      <th>2</th>\n",
       "      <td>3</td>\n",
       "      <td>2019-06-07</td>\n",
       "      <td>Dark Phoenix</td>\n",
       "      <td>$350,000,000</td>\n",
       "      <td>$42,762,350</td>\n",
       "      <td>$149,762,350</td>\n",
       "      <td>2019</td>\n",
       "      <td>6</td>\n",
       "    </tr>\n",
       "    <tr>\n",
       "      <th>3</th>\n",
       "      <td>4</td>\n",
       "      <td>2015-05-01</td>\n",
       "      <td>Avengers: Age of Ultron</td>\n",
       "      <td>$330,600,000</td>\n",
       "      <td>$459,005,868</td>\n",
       "      <td>$1,403,013,963</td>\n",
       "      <td>2015</td>\n",
       "      <td>5</td>\n",
       "    </tr>\n",
       "    <tr>\n",
       "      <th>4</th>\n",
       "      <td>5</td>\n",
       "      <td>2017-12-15</td>\n",
       "      <td>Star Wars Ep. VIII: The Last Jedi</td>\n",
       "      <td>$317,000,000</td>\n",
       "      <td>$620,181,382</td>\n",
       "      <td>$1,316,721,747</td>\n",
       "      <td>2017</td>\n",
       "      <td>12</td>\n",
       "    </tr>\n",
       "  </tbody>\n",
       "</table>\n",
       "</div>"
      ],
      "text/plain": [
       "   id release_date                                primary_title  \\\n",
       "0   1   2009-12-18                                       Avatar   \n",
       "1   2   2011-05-20  Pirates of the Caribbean: On Stranger Tides   \n",
       "2   3   2019-06-07                                 Dark Phoenix   \n",
       "3   4   2015-05-01                      Avengers: Age of Ultron   \n",
       "4   5   2017-12-15            Star Wars Ep. VIII: The Last Jedi   \n",
       "\n",
       "  production_budget domestic_gross worldwide_gross  release_year  \\\n",
       "0      $425,000,000   $760,507,625  $2,776,345,279          2009   \n",
       "1      $410,600,000   $241,063,875  $1,045,663,875          2011   \n",
       "2      $350,000,000    $42,762,350    $149,762,350          2019   \n",
       "3      $330,600,000   $459,005,868  $1,403,013,963          2015   \n",
       "4      $317,000,000   $620,181,382  $1,316,721,747          2017   \n",
       "\n",
       "   release_month  \n",
       "0             12  \n",
       "1              5  \n",
       "2              6  \n",
       "3              5  \n",
       "4             12  "
      ]
     },
     "execution_count": 14,
     "metadata": {},
     "output_type": "execute_result"
    }
   ],
   "source": [
    "# Created new columns of year and month in order to analyze the data by months or seasons.\n",
    "budgets_df['release_year'] = budgets_df['release_date'].dt.year\n",
    "budgets_df['release_month'] = budgets_df['release_date'].dt.month\n",
    "budgets_df.head()"
   ]
  },
  {
   "cell_type": "code",
   "execution_count": 16,
   "metadata": {},
   "outputs": [],
   "source": [
    "#Converting budget and gross columns datatype from object to float.\n",
    "budgets_df['production_budget'] = budgets_df['production_budget'].str.replace(',','').str.replace('$','').astype(float)\n",
    "budgets_df['domestic_gross'] = budgets_df['domestic_gross'].str.replace(',','').str.replace('$','').astype(float)\n",
    "budgets_df['worldwide_gross'] = budgets_df['worldwide_gross'].str.replace(',','').str.replace('$','').astype(float)"
   ]
  },
  {
   "cell_type": "code",
   "execution_count": 17,
   "metadata": {},
   "outputs": [
    {
     "name": "stdout",
     "output_type": "stream",
     "text": [
      "<class 'pandas.core.frame.DataFrame'>\n",
      "RangeIndex: 5782 entries, 0 to 5781\n",
      "Data columns (total 8 columns):\n",
      " #   Column             Non-Null Count  Dtype         \n",
      "---  ------             --------------  -----         \n",
      " 0   id                 5782 non-null   int64         \n",
      " 1   release_date       5782 non-null   datetime64[ns]\n",
      " 2   primary_title      5782 non-null   object        \n",
      " 3   production_budget  5782 non-null   float64       \n",
      " 4   domestic_gross     5782 non-null   float64       \n",
      " 5   worldwide_gross    5782 non-null   float64       \n",
      " 6   release_year       5782 non-null   int64         \n",
      " 7   release_month      5782 non-null   int64         \n",
      "dtypes: datetime64[ns](1), float64(3), int64(3), object(1)\n",
      "memory usage: 361.5+ KB\n"
     ]
    }
   ],
   "source": [
    "#Making sure the converting succesful.\n",
    "budgets_df.info()"
   ]
  },
  {
   "cell_type": "code",
   "execution_count": 18,
   "metadata": {},
   "outputs": [
    {
     "data": {
      "text/html": [
       "<div>\n",
       "<style scoped>\n",
       "    .dataframe tbody tr th:only-of-type {\n",
       "        vertical-align: middle;\n",
       "    }\n",
       "\n",
       "    .dataframe tbody tr th {\n",
       "        vertical-align: top;\n",
       "    }\n",
       "\n",
       "    .dataframe thead th {\n",
       "        text-align: right;\n",
       "    }\n",
       "</style>\n",
       "<table border=\"1\" class=\"dataframe\">\n",
       "  <thead>\n",
       "    <tr style=\"text-align: right;\">\n",
       "      <th></th>\n",
       "      <th>id</th>\n",
       "      <th>release_date</th>\n",
       "      <th>primary_title</th>\n",
       "      <th>production_budget</th>\n",
       "      <th>domestic_gross</th>\n",
       "      <th>worldwide_gross</th>\n",
       "      <th>release_year</th>\n",
       "      <th>release_month</th>\n",
       "      <th>domestic_ROI</th>\n",
       "      <th>worldwide_ROI</th>\n",
       "    </tr>\n",
       "  </thead>\n",
       "  <tbody>\n",
       "    <tr>\n",
       "      <th>0</th>\n",
       "      <td>1</td>\n",
       "      <td>2009-12-18</td>\n",
       "      <td>Avatar</td>\n",
       "      <td>425000000.000</td>\n",
       "      <td>760507625.000</td>\n",
       "      <td>2776345279.000</td>\n",
       "      <td>2009</td>\n",
       "      <td>12</td>\n",
       "      <td>0.789</td>\n",
       "      <td>5.533</td>\n",
       "    </tr>\n",
       "    <tr>\n",
       "      <th>1</th>\n",
       "      <td>2</td>\n",
       "      <td>2011-05-20</td>\n",
       "      <td>Pirates of the Caribbean: On Stranger Tides</td>\n",
       "      <td>410600000.000</td>\n",
       "      <td>241063875.000</td>\n",
       "      <td>1045663875.000</td>\n",
       "      <td>2011</td>\n",
       "      <td>5</td>\n",
       "      <td>-0.413</td>\n",
       "      <td>1.547</td>\n",
       "    </tr>\n",
       "    <tr>\n",
       "      <th>2</th>\n",
       "      <td>3</td>\n",
       "      <td>2019-06-07</td>\n",
       "      <td>Dark Phoenix</td>\n",
       "      <td>350000000.000</td>\n",
       "      <td>42762350.000</td>\n",
       "      <td>149762350.000</td>\n",
       "      <td>2019</td>\n",
       "      <td>6</td>\n",
       "      <td>-0.878</td>\n",
       "      <td>-0.572</td>\n",
       "    </tr>\n",
       "    <tr>\n",
       "      <th>3</th>\n",
       "      <td>4</td>\n",
       "      <td>2015-05-01</td>\n",
       "      <td>Avengers: Age of Ultron</td>\n",
       "      <td>330600000.000</td>\n",
       "      <td>459005868.000</td>\n",
       "      <td>1403013963.000</td>\n",
       "      <td>2015</td>\n",
       "      <td>5</td>\n",
       "      <td>0.388</td>\n",
       "      <td>3.244</td>\n",
       "    </tr>\n",
       "    <tr>\n",
       "      <th>4</th>\n",
       "      <td>5</td>\n",
       "      <td>2017-12-15</td>\n",
       "      <td>Star Wars Ep. VIII: The Last Jedi</td>\n",
       "      <td>317000000.000</td>\n",
       "      <td>620181382.000</td>\n",
       "      <td>1316721747.000</td>\n",
       "      <td>2017</td>\n",
       "      <td>12</td>\n",
       "      <td>0.956</td>\n",
       "      <td>3.154</td>\n",
       "    </tr>\n",
       "  </tbody>\n",
       "</table>\n",
       "</div>"
      ],
      "text/plain": [
       "   id release_date                                primary_title  \\\n",
       "0   1   2009-12-18                                       Avatar   \n",
       "1   2   2011-05-20  Pirates of the Caribbean: On Stranger Tides   \n",
       "2   3   2019-06-07                                 Dark Phoenix   \n",
       "3   4   2015-05-01                      Avengers: Age of Ultron   \n",
       "4   5   2017-12-15            Star Wars Ep. VIII: The Last Jedi   \n",
       "\n",
       "   production_budget  domestic_gross  worldwide_gross  release_year  \\\n",
       "0      425000000.000   760507625.000   2776345279.000          2009   \n",
       "1      410600000.000   241063875.000   1045663875.000          2011   \n",
       "2      350000000.000    42762350.000    149762350.000          2019   \n",
       "3      330600000.000   459005868.000   1403013963.000          2015   \n",
       "4      317000000.000   620181382.000   1316721747.000          2017   \n",
       "\n",
       "   release_month  domestic_ROI  worldwide_ROI  \n",
       "0             12         0.789          5.533  \n",
       "1              5        -0.413          1.547  \n",
       "2              6        -0.878         -0.572  \n",
       "3              5         0.388          3.244  \n",
       "4             12         0.956          3.154  "
      ]
     },
     "execution_count": 18,
     "metadata": {},
     "output_type": "execute_result"
    }
   ],
   "source": [
    "#Creating columns of domestic ROI & worldwide ROI\n",
    "budgets_df['domestic_ROI'] = budgets_df.apply(lambda x : ((x['domestic_gross'] - x['production_budget'])/x['production_budget']),axis=1)\n",
    "budgets_df['worldwide_ROI'] = budgets_df.apply(lambda x : ((x['worldwide_gross'] - x['production_budget'])/x['production_budget']),axis=1)\n",
    "\n",
    "budgets_df.head()"
   ]
  },
  {
   "cell_type": "markdown",
   "metadata": {},
   "source": [
    "## Merging title and budgets dataframes"
   ]
  },
  {
   "cell_type": "code",
   "execution_count": 19,
   "metadata": {},
   "outputs": [
    {
     "name": "stdout",
     "output_type": "stream",
     "text": [
      "<class 'pandas.core.frame.DataFrame'>\n",
      "Int64Index: 3815 entries, 0 to 3814\n",
      "Data columns (total 15 columns):\n",
      " #   Column             Non-Null Count  Dtype         \n",
      "---  ------             --------------  -----         \n",
      " 0   tconst             3815 non-null   object        \n",
      " 1   primary_title      3815 non-null   object        \n",
      " 2   original_title     3814 non-null   object        \n",
      " 3   start_year         3815 non-null   int64         \n",
      " 4   runtime_minutes    3328 non-null   float64       \n",
      " 5   genres             3743 non-null   object        \n",
      " 6   id                 3815 non-null   int64         \n",
      " 7   release_date       3815 non-null   datetime64[ns]\n",
      " 8   production_budget  3815 non-null   float64       \n",
      " 9   domestic_gross     3815 non-null   float64       \n",
      " 10  worldwide_gross    3815 non-null   float64       \n",
      " 11  release_year       3815 non-null   int64         \n",
      " 12  release_month      3815 non-null   int64         \n",
      " 13  domestic_ROI       3815 non-null   float64       \n",
      " 14  worldwide_ROI      3815 non-null   float64       \n",
      "dtypes: datetime64[ns](1), float64(6), int64(4), object(4)\n",
      "memory usage: 476.9+ KB\n"
     ]
    }
   ],
   "source": [
    "#Merging title & budgets dataframe\n",
    "genres_budgets_df=title_df.merge(budgets_df)\n",
    "genres_budgets_df.info()"
   ]
  },
  {
   "cell_type": "code",
   "execution_count": 20,
   "metadata": {},
   "outputs": [],
   "source": [
    "#Removing null value in the dataframe\n",
    "genres_budgets_df= genres_budgets_df.dropna(subset=['original_title','genres','runtime_minutes'])"
   ]
  },
  {
   "cell_type": "code",
   "execution_count": 21,
   "metadata": {},
   "outputs": [
    {
     "data": {
      "text/plain": [
       "tconst               0\n",
       "primary_title        0\n",
       "original_title       0\n",
       "start_year           0\n",
       "runtime_minutes      0\n",
       "genres               0\n",
       "id                   0\n",
       "release_date         0\n",
       "production_budget    0\n",
       "domestic_gross       0\n",
       "worldwide_gross      0\n",
       "release_year         0\n",
       "release_month        0\n",
       "domestic_ROI         0\n",
       "worldwide_ROI        0\n",
       "dtype: int64"
      ]
     },
     "execution_count": 21,
     "metadata": {},
     "output_type": "execute_result"
    }
   ],
   "source": [
    "#Making sure the null values dropped.\n",
    "genres_budgets_df.isna().sum()"
   ]
  },
  {
   "cell_type": "code",
   "execution_count": 22,
   "metadata": {},
   "outputs": [
    {
     "data": {
      "text/html": [
       "<div>\n",
       "<style scoped>\n",
       "    .dataframe tbody tr th:only-of-type {\n",
       "        vertical-align: middle;\n",
       "    }\n",
       "\n",
       "    .dataframe tbody tr th {\n",
       "        vertical-align: top;\n",
       "    }\n",
       "\n",
       "    .dataframe thead th {\n",
       "        text-align: right;\n",
       "    }\n",
       "</style>\n",
       "<table border=\"1\" class=\"dataframe\">\n",
       "  <thead>\n",
       "    <tr style=\"text-align: right;\">\n",
       "      <th></th>\n",
       "      <th>tconst</th>\n",
       "      <th>primary_title</th>\n",
       "      <th>original_title</th>\n",
       "      <th>start_year</th>\n",
       "      <th>runtime_minutes</th>\n",
       "      <th>genres</th>\n",
       "      <th>id</th>\n",
       "      <th>release_date</th>\n",
       "      <th>production_budget</th>\n",
       "      <th>domestic_gross</th>\n",
       "      <th>worldwide_gross</th>\n",
       "      <th>release_year</th>\n",
       "      <th>release_month</th>\n",
       "      <th>domestic_ROI</th>\n",
       "      <th>worldwide_ROI</th>\n",
       "      <th>new_genres</th>\n",
       "    </tr>\n",
       "  </thead>\n",
       "  <tbody>\n",
       "    <tr>\n",
       "      <th>0</th>\n",
       "      <td>tt0249516</td>\n",
       "      <td>Foodfight!</td>\n",
       "      <td>Foodfight!</td>\n",
       "      <td>2012</td>\n",
       "      <td>91.000</td>\n",
       "      <td>Action,Animation,Comedy</td>\n",
       "      <td>26</td>\n",
       "      <td>2012-12-31</td>\n",
       "      <td>45000000.000</td>\n",
       "      <td>0.000</td>\n",
       "      <td>73706.000</td>\n",
       "      <td>2012</td>\n",
       "      <td>12</td>\n",
       "      <td>-1.000</td>\n",
       "      <td>-0.998</td>\n",
       "      <td>[Action, Animation, Comedy]</td>\n",
       "    </tr>\n",
       "    <tr>\n",
       "      <th>3</th>\n",
       "      <td>tt3844362</td>\n",
       "      <td>The Overnight</td>\n",
       "      <td>The Overnight</td>\n",
       "      <td>2015</td>\n",
       "      <td>79.000</td>\n",
       "      <td>Comedy,Mystery</td>\n",
       "      <td>21</td>\n",
       "      <td>2015-06-19</td>\n",
       "      <td>200000.000</td>\n",
       "      <td>1109808.000</td>\n",
       "      <td>1165996.000</td>\n",
       "      <td>2015</td>\n",
       "      <td>6</td>\n",
       "      <td>4.549</td>\n",
       "      <td>4.830</td>\n",
       "      <td>[Comedy, Mystery]</td>\n",
       "    </tr>\n",
       "    <tr>\n",
       "      <th>4</th>\n",
       "      <td>tt0337692</td>\n",
       "      <td>On the Road</td>\n",
       "      <td>On the Road</td>\n",
       "      <td>2012</td>\n",
       "      <td>124.000</td>\n",
       "      <td>Adventure,Drama,Romance</td>\n",
       "      <td>17</td>\n",
       "      <td>2013-03-22</td>\n",
       "      <td>25000000.000</td>\n",
       "      <td>720828.000</td>\n",
       "      <td>9313302.000</td>\n",
       "      <td>2013</td>\n",
       "      <td>3</td>\n",
       "      <td>-0.971</td>\n",
       "      <td>-0.627</td>\n",
       "      <td>[Adventure, Drama, Romance]</td>\n",
       "    </tr>\n",
       "    <tr>\n",
       "      <th>5</th>\n",
       "      <td>tt2404548</td>\n",
       "      <td>On the Road</td>\n",
       "      <td>On the Road</td>\n",
       "      <td>2011</td>\n",
       "      <td>90.000</td>\n",
       "      <td>Drama</td>\n",
       "      <td>17</td>\n",
       "      <td>2013-03-22</td>\n",
       "      <td>25000000.000</td>\n",
       "      <td>720828.000</td>\n",
       "      <td>9313302.000</td>\n",
       "      <td>2013</td>\n",
       "      <td>3</td>\n",
       "      <td>-0.971</td>\n",
       "      <td>-0.627</td>\n",
       "      <td>[Drama]</td>\n",
       "    </tr>\n",
       "    <tr>\n",
       "      <th>6</th>\n",
       "      <td>tt3872966</td>\n",
       "      <td>On the Road</td>\n",
       "      <td>On the Road</td>\n",
       "      <td>2013</td>\n",
       "      <td>87.000</td>\n",
       "      <td>Documentary</td>\n",
       "      <td>17</td>\n",
       "      <td>2013-03-22</td>\n",
       "      <td>25000000.000</td>\n",
       "      <td>720828.000</td>\n",
       "      <td>9313302.000</td>\n",
       "      <td>2013</td>\n",
       "      <td>3</td>\n",
       "      <td>-0.971</td>\n",
       "      <td>-0.627</td>\n",
       "      <td>[Documentary]</td>\n",
       "    </tr>\n",
       "    <tr>\n",
       "      <th>...</th>\n",
       "      <td>...</td>\n",
       "      <td>...</td>\n",
       "      <td>...</td>\n",
       "      <td>...</td>\n",
       "      <td>...</td>\n",
       "      <td>...</td>\n",
       "      <td>...</td>\n",
       "      <td>...</td>\n",
       "      <td>...</td>\n",
       "      <td>...</td>\n",
       "      <td>...</td>\n",
       "      <td>...</td>\n",
       "      <td>...</td>\n",
       "      <td>...</td>\n",
       "      <td>...</td>\n",
       "      <td>...</td>\n",
       "    </tr>\n",
       "    <tr>\n",
       "      <th>3806</th>\n",
       "      <td>tt9275702</td>\n",
       "      <td>Salvador</td>\n",
       "      <td>Salvador</td>\n",
       "      <td>2016</td>\n",
       "      <td>71.000</td>\n",
       "      <td>Drama</td>\n",
       "      <td>38</td>\n",
       "      <td>1986-04-23</td>\n",
       "      <td>4500000.000</td>\n",
       "      <td>1500000.000</td>\n",
       "      <td>1500000.000</td>\n",
       "      <td>1986</td>\n",
       "      <td>4</td>\n",
       "      <td>-0.667</td>\n",
       "      <td>-0.667</td>\n",
       "      <td>[Drama]</td>\n",
       "    </tr>\n",
       "    <tr>\n",
       "      <th>3807</th>\n",
       "      <td>tt9313936</td>\n",
       "      <td>Stay Alive</td>\n",
       "      <td>Stay Alive</td>\n",
       "      <td>2019</td>\n",
       "      <td>72.000</td>\n",
       "      <td>Documentary</td>\n",
       "      <td>85</td>\n",
       "      <td>2006-03-24</td>\n",
       "      <td>20000000.000</td>\n",
       "      <td>23086480.000</td>\n",
       "      <td>23187506.000</td>\n",
       "      <td>2006</td>\n",
       "      <td>3</td>\n",
       "      <td>0.154</td>\n",
       "      <td>0.159</td>\n",
       "      <td>[Documentary]</td>\n",
       "    </tr>\n",
       "    <tr>\n",
       "      <th>3809</th>\n",
       "      <td>tt9607270</td>\n",
       "      <td>The Blue Bird</td>\n",
       "      <td>The Blue Bird</td>\n",
       "      <td>2015</td>\n",
       "      <td>84.000</td>\n",
       "      <td>Drama</td>\n",
       "      <td>71</td>\n",
       "      <td>1976-01-01</td>\n",
       "      <td>1200000.000</td>\n",
       "      <td>887000.000</td>\n",
       "      <td>887000.000</td>\n",
       "      <td>1976</td>\n",
       "      <td>1</td>\n",
       "      <td>-0.261</td>\n",
       "      <td>-0.261</td>\n",
       "      <td>[Drama]</td>\n",
       "    </tr>\n",
       "    <tr>\n",
       "      <th>3812</th>\n",
       "      <td>tt9805168</td>\n",
       "      <td>Traitor</td>\n",
       "      <td>Traitor</td>\n",
       "      <td>2015</td>\n",
       "      <td>110.000</td>\n",
       "      <td>Action,Drama,Romance</td>\n",
       "      <td>25</td>\n",
       "      <td>2008-08-27</td>\n",
       "      <td>22000000.000</td>\n",
       "      <td>23530831.000</td>\n",
       "      <td>27882226.000</td>\n",
       "      <td>2008</td>\n",
       "      <td>8</td>\n",
       "      <td>0.070</td>\n",
       "      <td>0.267</td>\n",
       "      <td>[Action, Drama, Romance]</td>\n",
       "    </tr>\n",
       "    <tr>\n",
       "      <th>3813</th>\n",
       "      <td>tt9844102</td>\n",
       "      <td>Ray</td>\n",
       "      <td>Ray</td>\n",
       "      <td>2018</td>\n",
       "      <td>111.000</td>\n",
       "      <td>Crime</td>\n",
       "      <td>8</td>\n",
       "      <td>2004-10-29</td>\n",
       "      <td>40000000.000</td>\n",
       "      <td>75305995.000</td>\n",
       "      <td>124823094.000</td>\n",
       "      <td>2004</td>\n",
       "      <td>10</td>\n",
       "      <td>0.883</td>\n",
       "      <td>2.121</td>\n",
       "      <td>[Crime]</td>\n",
       "    </tr>\n",
       "  </tbody>\n",
       "</table>\n",
       "<p>3309 rows × 16 columns</p>\n",
       "</div>"
      ],
      "text/plain": [
       "         tconst  primary_title original_title  start_year  runtime_minutes  \\\n",
       "0     tt0249516     Foodfight!     Foodfight!        2012           91.000   \n",
       "3     tt3844362  The Overnight  The Overnight        2015           79.000   \n",
       "4     tt0337692    On the Road    On the Road        2012          124.000   \n",
       "5     tt2404548    On the Road    On the Road        2011           90.000   \n",
       "6     tt3872966    On the Road    On the Road        2013           87.000   \n",
       "...         ...            ...            ...         ...              ...   \n",
       "3806  tt9275702       Salvador       Salvador        2016           71.000   \n",
       "3807  tt9313936     Stay Alive     Stay Alive        2019           72.000   \n",
       "3809  tt9607270  The Blue Bird  The Blue Bird        2015           84.000   \n",
       "3812  tt9805168        Traitor        Traitor        2015          110.000   \n",
       "3813  tt9844102            Ray            Ray        2018          111.000   \n",
       "\n",
       "                       genres  id release_date  production_budget  \\\n",
       "0     Action,Animation,Comedy  26   2012-12-31       45000000.000   \n",
       "3              Comedy,Mystery  21   2015-06-19         200000.000   \n",
       "4     Adventure,Drama,Romance  17   2013-03-22       25000000.000   \n",
       "5                       Drama  17   2013-03-22       25000000.000   \n",
       "6                 Documentary  17   2013-03-22       25000000.000   \n",
       "...                       ...  ..          ...                ...   \n",
       "3806                    Drama  38   1986-04-23        4500000.000   \n",
       "3807              Documentary  85   2006-03-24       20000000.000   \n",
       "3809                    Drama  71   1976-01-01        1200000.000   \n",
       "3812     Action,Drama,Romance  25   2008-08-27       22000000.000   \n",
       "3813                    Crime   8   2004-10-29       40000000.000   \n",
       "\n",
       "      domestic_gross  worldwide_gross  release_year  release_month  \\\n",
       "0              0.000        73706.000          2012             12   \n",
       "3        1109808.000      1165996.000          2015              6   \n",
       "4         720828.000      9313302.000          2013              3   \n",
       "5         720828.000      9313302.000          2013              3   \n",
       "6         720828.000      9313302.000          2013              3   \n",
       "...              ...              ...           ...            ...   \n",
       "3806     1500000.000      1500000.000          1986              4   \n",
       "3807    23086480.000     23187506.000          2006              3   \n",
       "3809      887000.000       887000.000          1976              1   \n",
       "3812    23530831.000     27882226.000          2008              8   \n",
       "3813    75305995.000    124823094.000          2004             10   \n",
       "\n",
       "      domestic_ROI  worldwide_ROI                   new_genres  \n",
       "0           -1.000         -0.998  [Action, Animation, Comedy]  \n",
       "3            4.549          4.830            [Comedy, Mystery]  \n",
       "4           -0.971         -0.627  [Adventure, Drama, Romance]  \n",
       "5           -0.971         -0.627                      [Drama]  \n",
       "6           -0.971         -0.627                [Documentary]  \n",
       "...            ...            ...                          ...  \n",
       "3806        -0.667         -0.667                      [Drama]  \n",
       "3807         0.154          0.159                [Documentary]  \n",
       "3809        -0.261         -0.261                      [Drama]  \n",
       "3812         0.070          0.267     [Action, Drama, Romance]  \n",
       "3813         0.883          2.121                      [Crime]  \n",
       "\n",
       "[3309 rows x 16 columns]"
      ]
     },
     "execution_count": 22,
     "metadata": {},
     "output_type": "execute_result"
    }
   ],
   "source": [
    "#createing a list of genres column\n",
    "genres_budgets_df['new_genres']=genres_budgets_df['genres'].str.split(',')\n",
    "genres_budgets_df"
   ]
  },
  {
   "cell_type": "code",
   "execution_count": 23,
   "metadata": {
    "scrolled": true
   },
   "outputs": [
    {
     "data": {
      "text/html": [
       "<div>\n",
       "<style scoped>\n",
       "    .dataframe tbody tr th:only-of-type {\n",
       "        vertical-align: middle;\n",
       "    }\n",
       "\n",
       "    .dataframe tbody tr th {\n",
       "        vertical-align: top;\n",
       "    }\n",
       "\n",
       "    .dataframe thead th {\n",
       "        text-align: right;\n",
       "    }\n",
       "</style>\n",
       "<table border=\"1\" class=\"dataframe\">\n",
       "  <thead>\n",
       "    <tr style=\"text-align: right;\">\n",
       "      <th></th>\n",
       "      <th>tconst</th>\n",
       "      <th>primary_title</th>\n",
       "      <th>original_title</th>\n",
       "      <th>start_year</th>\n",
       "      <th>runtime_minutes</th>\n",
       "      <th>genres</th>\n",
       "      <th>id</th>\n",
       "      <th>release_date</th>\n",
       "      <th>production_budget</th>\n",
       "      <th>domestic_gross</th>\n",
       "      <th>worldwide_gross</th>\n",
       "      <th>release_year</th>\n",
       "      <th>release_month</th>\n",
       "      <th>domestic_ROI</th>\n",
       "      <th>worldwide_ROI</th>\n",
       "      <th>new_genres</th>\n",
       "    </tr>\n",
       "  </thead>\n",
       "  <tbody>\n",
       "    <tr>\n",
       "      <th>0</th>\n",
       "      <td>tt0249516</td>\n",
       "      <td>Foodfight!</td>\n",
       "      <td>Foodfight!</td>\n",
       "      <td>2012</td>\n",
       "      <td>91.000</td>\n",
       "      <td>Action,Animation,Comedy</td>\n",
       "      <td>26</td>\n",
       "      <td>2012-12-31</td>\n",
       "      <td>45000000.000</td>\n",
       "      <td>0.000</td>\n",
       "      <td>73706.000</td>\n",
       "      <td>2012</td>\n",
       "      <td>12</td>\n",
       "      <td>-1.000</td>\n",
       "      <td>-0.998</td>\n",
       "      <td>Action</td>\n",
       "    </tr>\n",
       "    <tr>\n",
       "      <th>0</th>\n",
       "      <td>tt0249516</td>\n",
       "      <td>Foodfight!</td>\n",
       "      <td>Foodfight!</td>\n",
       "      <td>2012</td>\n",
       "      <td>91.000</td>\n",
       "      <td>Action,Animation,Comedy</td>\n",
       "      <td>26</td>\n",
       "      <td>2012-12-31</td>\n",
       "      <td>45000000.000</td>\n",
       "      <td>0.000</td>\n",
       "      <td>73706.000</td>\n",
       "      <td>2012</td>\n",
       "      <td>12</td>\n",
       "      <td>-1.000</td>\n",
       "      <td>-0.998</td>\n",
       "      <td>Animation</td>\n",
       "    </tr>\n",
       "    <tr>\n",
       "      <th>0</th>\n",
       "      <td>tt0249516</td>\n",
       "      <td>Foodfight!</td>\n",
       "      <td>Foodfight!</td>\n",
       "      <td>2012</td>\n",
       "      <td>91.000</td>\n",
       "      <td>Action,Animation,Comedy</td>\n",
       "      <td>26</td>\n",
       "      <td>2012-12-31</td>\n",
       "      <td>45000000.000</td>\n",
       "      <td>0.000</td>\n",
       "      <td>73706.000</td>\n",
       "      <td>2012</td>\n",
       "      <td>12</td>\n",
       "      <td>-1.000</td>\n",
       "      <td>-0.998</td>\n",
       "      <td>Comedy</td>\n",
       "    </tr>\n",
       "    <tr>\n",
       "      <th>3</th>\n",
       "      <td>tt3844362</td>\n",
       "      <td>The Overnight</td>\n",
       "      <td>The Overnight</td>\n",
       "      <td>2015</td>\n",
       "      <td>79.000</td>\n",
       "      <td>Comedy,Mystery</td>\n",
       "      <td>21</td>\n",
       "      <td>2015-06-19</td>\n",
       "      <td>200000.000</td>\n",
       "      <td>1109808.000</td>\n",
       "      <td>1165996.000</td>\n",
       "      <td>2015</td>\n",
       "      <td>6</td>\n",
       "      <td>4.549</td>\n",
       "      <td>4.830</td>\n",
       "      <td>Comedy</td>\n",
       "    </tr>\n",
       "    <tr>\n",
       "      <th>3</th>\n",
       "      <td>tt3844362</td>\n",
       "      <td>The Overnight</td>\n",
       "      <td>The Overnight</td>\n",
       "      <td>2015</td>\n",
       "      <td>79.000</td>\n",
       "      <td>Comedy,Mystery</td>\n",
       "      <td>21</td>\n",
       "      <td>2015-06-19</td>\n",
       "      <td>200000.000</td>\n",
       "      <td>1109808.000</td>\n",
       "      <td>1165996.000</td>\n",
       "      <td>2015</td>\n",
       "      <td>6</td>\n",
       "      <td>4.549</td>\n",
       "      <td>4.830</td>\n",
       "      <td>Mystery</td>\n",
       "    </tr>\n",
       "    <tr>\n",
       "      <th>...</th>\n",
       "      <td>...</td>\n",
       "      <td>...</td>\n",
       "      <td>...</td>\n",
       "      <td>...</td>\n",
       "      <td>...</td>\n",
       "      <td>...</td>\n",
       "      <td>...</td>\n",
       "      <td>...</td>\n",
       "      <td>...</td>\n",
       "      <td>...</td>\n",
       "      <td>...</td>\n",
       "      <td>...</td>\n",
       "      <td>...</td>\n",
       "      <td>...</td>\n",
       "      <td>...</td>\n",
       "      <td>...</td>\n",
       "    </tr>\n",
       "    <tr>\n",
       "      <th>3809</th>\n",
       "      <td>tt9607270</td>\n",
       "      <td>The Blue Bird</td>\n",
       "      <td>The Blue Bird</td>\n",
       "      <td>2015</td>\n",
       "      <td>84.000</td>\n",
       "      <td>Drama</td>\n",
       "      <td>71</td>\n",
       "      <td>1976-01-01</td>\n",
       "      <td>1200000.000</td>\n",
       "      <td>887000.000</td>\n",
       "      <td>887000.000</td>\n",
       "      <td>1976</td>\n",
       "      <td>1</td>\n",
       "      <td>-0.261</td>\n",
       "      <td>-0.261</td>\n",
       "      <td>Drama</td>\n",
       "    </tr>\n",
       "    <tr>\n",
       "      <th>3812</th>\n",
       "      <td>tt9805168</td>\n",
       "      <td>Traitor</td>\n",
       "      <td>Traitor</td>\n",
       "      <td>2015</td>\n",
       "      <td>110.000</td>\n",
       "      <td>Action,Drama,Romance</td>\n",
       "      <td>25</td>\n",
       "      <td>2008-08-27</td>\n",
       "      <td>22000000.000</td>\n",
       "      <td>23530831.000</td>\n",
       "      <td>27882226.000</td>\n",
       "      <td>2008</td>\n",
       "      <td>8</td>\n",
       "      <td>0.070</td>\n",
       "      <td>0.267</td>\n",
       "      <td>Action</td>\n",
       "    </tr>\n",
       "    <tr>\n",
       "      <th>3812</th>\n",
       "      <td>tt9805168</td>\n",
       "      <td>Traitor</td>\n",
       "      <td>Traitor</td>\n",
       "      <td>2015</td>\n",
       "      <td>110.000</td>\n",
       "      <td>Action,Drama,Romance</td>\n",
       "      <td>25</td>\n",
       "      <td>2008-08-27</td>\n",
       "      <td>22000000.000</td>\n",
       "      <td>23530831.000</td>\n",
       "      <td>27882226.000</td>\n",
       "      <td>2008</td>\n",
       "      <td>8</td>\n",
       "      <td>0.070</td>\n",
       "      <td>0.267</td>\n",
       "      <td>Drama</td>\n",
       "    </tr>\n",
       "    <tr>\n",
       "      <th>3812</th>\n",
       "      <td>tt9805168</td>\n",
       "      <td>Traitor</td>\n",
       "      <td>Traitor</td>\n",
       "      <td>2015</td>\n",
       "      <td>110.000</td>\n",
       "      <td>Action,Drama,Romance</td>\n",
       "      <td>25</td>\n",
       "      <td>2008-08-27</td>\n",
       "      <td>22000000.000</td>\n",
       "      <td>23530831.000</td>\n",
       "      <td>27882226.000</td>\n",
       "      <td>2008</td>\n",
       "      <td>8</td>\n",
       "      <td>0.070</td>\n",
       "      <td>0.267</td>\n",
       "      <td>Romance</td>\n",
       "    </tr>\n",
       "    <tr>\n",
       "      <th>3813</th>\n",
       "      <td>tt9844102</td>\n",
       "      <td>Ray</td>\n",
       "      <td>Ray</td>\n",
       "      <td>2018</td>\n",
       "      <td>111.000</td>\n",
       "      <td>Crime</td>\n",
       "      <td>8</td>\n",
       "      <td>2004-10-29</td>\n",
       "      <td>40000000.000</td>\n",
       "      <td>75305995.000</td>\n",
       "      <td>124823094.000</td>\n",
       "      <td>2004</td>\n",
       "      <td>10</td>\n",
       "      <td>0.883</td>\n",
       "      <td>2.121</td>\n",
       "      <td>Crime</td>\n",
       "    </tr>\n",
       "  </tbody>\n",
       "</table>\n",
       "<p>7204 rows × 16 columns</p>\n",
       "</div>"
      ],
      "text/plain": [
       "         tconst  primary_title original_title  start_year  runtime_minutes  \\\n",
       "0     tt0249516     Foodfight!     Foodfight!        2012           91.000   \n",
       "0     tt0249516     Foodfight!     Foodfight!        2012           91.000   \n",
       "0     tt0249516     Foodfight!     Foodfight!        2012           91.000   \n",
       "3     tt3844362  The Overnight  The Overnight        2015           79.000   \n",
       "3     tt3844362  The Overnight  The Overnight        2015           79.000   \n",
       "...         ...            ...            ...         ...              ...   \n",
       "3809  tt9607270  The Blue Bird  The Blue Bird        2015           84.000   \n",
       "3812  tt9805168        Traitor        Traitor        2015          110.000   \n",
       "3812  tt9805168        Traitor        Traitor        2015          110.000   \n",
       "3812  tt9805168        Traitor        Traitor        2015          110.000   \n",
       "3813  tt9844102            Ray            Ray        2018          111.000   \n",
       "\n",
       "                       genres  id release_date  production_budget  \\\n",
       "0     Action,Animation,Comedy  26   2012-12-31       45000000.000   \n",
       "0     Action,Animation,Comedy  26   2012-12-31       45000000.000   \n",
       "0     Action,Animation,Comedy  26   2012-12-31       45000000.000   \n",
       "3              Comedy,Mystery  21   2015-06-19         200000.000   \n",
       "3              Comedy,Mystery  21   2015-06-19         200000.000   \n",
       "...                       ...  ..          ...                ...   \n",
       "3809                    Drama  71   1976-01-01        1200000.000   \n",
       "3812     Action,Drama,Romance  25   2008-08-27       22000000.000   \n",
       "3812     Action,Drama,Romance  25   2008-08-27       22000000.000   \n",
       "3812     Action,Drama,Romance  25   2008-08-27       22000000.000   \n",
       "3813                    Crime   8   2004-10-29       40000000.000   \n",
       "\n",
       "      domestic_gross  worldwide_gross  release_year  release_month  \\\n",
       "0              0.000        73706.000          2012             12   \n",
       "0              0.000        73706.000          2012             12   \n",
       "0              0.000        73706.000          2012             12   \n",
       "3        1109808.000      1165996.000          2015              6   \n",
       "3        1109808.000      1165996.000          2015              6   \n",
       "...              ...              ...           ...            ...   \n",
       "3809      887000.000       887000.000          1976              1   \n",
       "3812    23530831.000     27882226.000          2008              8   \n",
       "3812    23530831.000     27882226.000          2008              8   \n",
       "3812    23530831.000     27882226.000          2008              8   \n",
       "3813    75305995.000    124823094.000          2004             10   \n",
       "\n",
       "      domestic_ROI  worldwide_ROI new_genres  \n",
       "0           -1.000         -0.998     Action  \n",
       "0           -1.000         -0.998  Animation  \n",
       "0           -1.000         -0.998     Comedy  \n",
       "3            4.549          4.830     Comedy  \n",
       "3            4.549          4.830    Mystery  \n",
       "...            ...            ...        ...  \n",
       "3809        -0.261         -0.261      Drama  \n",
       "3812         0.070          0.267     Action  \n",
       "3812         0.070          0.267      Drama  \n",
       "3812         0.070          0.267    Romance  \n",
       "3813         0.883          2.121      Crime  \n",
       "\n",
       "[7204 rows x 16 columns]"
      ]
     },
     "execution_count": 23,
     "metadata": {},
     "output_type": "execute_result"
    }
   ],
   "source": [
    "#Exploding column \"new_genres\"\n",
    "genres_df=genres_budgets_df.explode('new_genres')\n",
    "genres_df"
   ]
  },
  {
   "cell_type": "code",
   "execution_count": 24,
   "metadata": {},
   "outputs": [],
   "source": [
    "#deleting columns not in use for analyzing\n",
    "genres_df.drop(['id','start_year'],axis=1,inplace=True)"
   ]
  },
  {
   "cell_type": "code",
   "execution_count": 25,
   "metadata": {},
   "outputs": [],
   "source": [
    "#Creating a new column to sort the movies in seasons\n",
    "genres_df['Seasons'] = genres_df['release_month'].apply(lambda x : 'Summer' if x > 5 and x < 9\n",
    "                                                     else ('Spring' if x >= 3 and x < 6\n",
    "                                                     else('Winter' if x >11 or x < 3\n",
    "                                                     else('Fall'))))\n"
   ]
  },
  {
   "cell_type": "code",
   "execution_count": 26,
   "metadata": {},
   "outputs": [
    {
     "data": {
      "text/html": [
       "<div>\n",
       "<style scoped>\n",
       "    .dataframe tbody tr th:only-of-type {\n",
       "        vertical-align: middle;\n",
       "    }\n",
       "\n",
       "    .dataframe tbody tr th {\n",
       "        vertical-align: top;\n",
       "    }\n",
       "\n",
       "    .dataframe thead th {\n",
       "        text-align: right;\n",
       "    }\n",
       "</style>\n",
       "<table border=\"1\" class=\"dataframe\">\n",
       "  <thead>\n",
       "    <tr style=\"text-align: right;\">\n",
       "      <th></th>\n",
       "      <th>tconst</th>\n",
       "      <th>primary_title</th>\n",
       "      <th>original_title</th>\n",
       "      <th>runtime_minutes</th>\n",
       "      <th>genres</th>\n",
       "      <th>release_date</th>\n",
       "      <th>production_budget</th>\n",
       "      <th>domestic_gross</th>\n",
       "      <th>worldwide_gross</th>\n",
       "      <th>release_year</th>\n",
       "      <th>release_month</th>\n",
       "      <th>domestic_ROI</th>\n",
       "      <th>worldwide_ROI</th>\n",
       "      <th>new_genres</th>\n",
       "      <th>Seasons</th>\n",
       "    </tr>\n",
       "  </thead>\n",
       "  <tbody>\n",
       "    <tr>\n",
       "      <th>3809</th>\n",
       "      <td>tt9607270</td>\n",
       "      <td>The Blue Bird</td>\n",
       "      <td>The Blue Bird</td>\n",
       "      <td>84.000</td>\n",
       "      <td>Drama</td>\n",
       "      <td>1976-01-01</td>\n",
       "      <td>1200000.000</td>\n",
       "      <td>887000.000</td>\n",
       "      <td>887000.000</td>\n",
       "      <td>1976</td>\n",
       "      <td>1</td>\n",
       "      <td>-0.261</td>\n",
       "      <td>-0.261</td>\n",
       "      <td>Drama</td>\n",
       "      <td>Winter</td>\n",
       "    </tr>\n",
       "    <tr>\n",
       "      <th>3812</th>\n",
       "      <td>tt9805168</td>\n",
       "      <td>Traitor</td>\n",
       "      <td>Traitor</td>\n",
       "      <td>110.000</td>\n",
       "      <td>Action,Drama,Romance</td>\n",
       "      <td>2008-08-27</td>\n",
       "      <td>22000000.000</td>\n",
       "      <td>23530831.000</td>\n",
       "      <td>27882226.000</td>\n",
       "      <td>2008</td>\n",
       "      <td>8</td>\n",
       "      <td>0.070</td>\n",
       "      <td>0.267</td>\n",
       "      <td>Action</td>\n",
       "      <td>Summer</td>\n",
       "    </tr>\n",
       "    <tr>\n",
       "      <th>3812</th>\n",
       "      <td>tt9805168</td>\n",
       "      <td>Traitor</td>\n",
       "      <td>Traitor</td>\n",
       "      <td>110.000</td>\n",
       "      <td>Action,Drama,Romance</td>\n",
       "      <td>2008-08-27</td>\n",
       "      <td>22000000.000</td>\n",
       "      <td>23530831.000</td>\n",
       "      <td>27882226.000</td>\n",
       "      <td>2008</td>\n",
       "      <td>8</td>\n",
       "      <td>0.070</td>\n",
       "      <td>0.267</td>\n",
       "      <td>Drama</td>\n",
       "      <td>Summer</td>\n",
       "    </tr>\n",
       "    <tr>\n",
       "      <th>3812</th>\n",
       "      <td>tt9805168</td>\n",
       "      <td>Traitor</td>\n",
       "      <td>Traitor</td>\n",
       "      <td>110.000</td>\n",
       "      <td>Action,Drama,Romance</td>\n",
       "      <td>2008-08-27</td>\n",
       "      <td>22000000.000</td>\n",
       "      <td>23530831.000</td>\n",
       "      <td>27882226.000</td>\n",
       "      <td>2008</td>\n",
       "      <td>8</td>\n",
       "      <td>0.070</td>\n",
       "      <td>0.267</td>\n",
       "      <td>Romance</td>\n",
       "      <td>Summer</td>\n",
       "    </tr>\n",
       "    <tr>\n",
       "      <th>3813</th>\n",
       "      <td>tt9844102</td>\n",
       "      <td>Ray</td>\n",
       "      <td>Ray</td>\n",
       "      <td>111.000</td>\n",
       "      <td>Crime</td>\n",
       "      <td>2004-10-29</td>\n",
       "      <td>40000000.000</td>\n",
       "      <td>75305995.000</td>\n",
       "      <td>124823094.000</td>\n",
       "      <td>2004</td>\n",
       "      <td>10</td>\n",
       "      <td>0.883</td>\n",
       "      <td>2.121</td>\n",
       "      <td>Crime</td>\n",
       "      <td>Fall</td>\n",
       "    </tr>\n",
       "  </tbody>\n",
       "</table>\n",
       "</div>"
      ],
      "text/plain": [
       "         tconst  primary_title original_title  runtime_minutes  \\\n",
       "3809  tt9607270  The Blue Bird  The Blue Bird           84.000   \n",
       "3812  tt9805168        Traitor        Traitor          110.000   \n",
       "3812  tt9805168        Traitor        Traitor          110.000   \n",
       "3812  tt9805168        Traitor        Traitor          110.000   \n",
       "3813  tt9844102            Ray            Ray          111.000   \n",
       "\n",
       "                    genres release_date  production_budget  domestic_gross  \\\n",
       "3809                 Drama   1976-01-01        1200000.000      887000.000   \n",
       "3812  Action,Drama,Romance   2008-08-27       22000000.000    23530831.000   \n",
       "3812  Action,Drama,Romance   2008-08-27       22000000.000    23530831.000   \n",
       "3812  Action,Drama,Romance   2008-08-27       22000000.000    23530831.000   \n",
       "3813                 Crime   2004-10-29       40000000.000    75305995.000   \n",
       "\n",
       "      worldwide_gross  release_year  release_month  domestic_ROI  \\\n",
       "3809       887000.000          1976              1        -0.261   \n",
       "3812     27882226.000          2008              8         0.070   \n",
       "3812     27882226.000          2008              8         0.070   \n",
       "3812     27882226.000          2008              8         0.070   \n",
       "3813    124823094.000          2004             10         0.883   \n",
       "\n",
       "      worldwide_ROI new_genres Seasons  \n",
       "3809         -0.261      Drama  Winter  \n",
       "3812          0.267     Action  Summer  \n",
       "3812          0.267      Drama  Summer  \n",
       "3812          0.267    Romance  Summer  \n",
       "3813          2.121      Crime    Fall  "
      ]
     },
     "execution_count": 26,
     "metadata": {},
     "output_type": "execute_result"
    }
   ],
   "source": [
    "genres_df.tail()"
   ]
  },
  {
   "cell_type": "markdown",
   "metadata": {},
   "source": [
    "## Merging title & rating dataframe"
   ]
  },
  {
   "cell_type": "code",
   "execution_count": 27,
   "metadata": {},
   "outputs": [
    {
     "data": {
      "text/html": [
       "<div>\n",
       "<style scoped>\n",
       "    .dataframe tbody tr th:only-of-type {\n",
       "        vertical-align: middle;\n",
       "    }\n",
       "\n",
       "    .dataframe tbody tr th {\n",
       "        vertical-align: top;\n",
       "    }\n",
       "\n",
       "    .dataframe thead th {\n",
       "        text-align: right;\n",
       "    }\n",
       "</style>\n",
       "<table border=\"1\" class=\"dataframe\">\n",
       "  <thead>\n",
       "    <tr style=\"text-align: right;\">\n",
       "      <th></th>\n",
       "      <th>tconst</th>\n",
       "      <th>primary_title</th>\n",
       "      <th>original_title</th>\n",
       "      <th>start_year</th>\n",
       "      <th>runtime_minutes</th>\n",
       "      <th>genres</th>\n",
       "      <th>averagerating</th>\n",
       "      <th>numvotes</th>\n",
       "    </tr>\n",
       "  </thead>\n",
       "  <tbody>\n",
       "    <tr>\n",
       "      <th>0</th>\n",
       "      <td>tt0063540</td>\n",
       "      <td>Sunghursh</td>\n",
       "      <td>Sunghursh</td>\n",
       "      <td>2013</td>\n",
       "      <td>175.000</td>\n",
       "      <td>Action,Crime,Drama</td>\n",
       "      <td>7.000</td>\n",
       "      <td>77</td>\n",
       "    </tr>\n",
       "    <tr>\n",
       "      <th>1</th>\n",
       "      <td>tt0066787</td>\n",
       "      <td>One Day Before the Rainy Season</td>\n",
       "      <td>Ashad Ka Ek Din</td>\n",
       "      <td>2019</td>\n",
       "      <td>114.000</td>\n",
       "      <td>Biography,Drama</td>\n",
       "      <td>7.200</td>\n",
       "      <td>43</td>\n",
       "    </tr>\n",
       "    <tr>\n",
       "      <th>2</th>\n",
       "      <td>tt0069049</td>\n",
       "      <td>The Other Side of the Wind</td>\n",
       "      <td>The Other Side of the Wind</td>\n",
       "      <td>2018</td>\n",
       "      <td>122.000</td>\n",
       "      <td>Drama</td>\n",
       "      <td>6.900</td>\n",
       "      <td>4517</td>\n",
       "    </tr>\n",
       "    <tr>\n",
       "      <th>3</th>\n",
       "      <td>tt0069204</td>\n",
       "      <td>Sabse Bada Sukh</td>\n",
       "      <td>Sabse Bada Sukh</td>\n",
       "      <td>2018</td>\n",
       "      <td>NaN</td>\n",
       "      <td>Comedy,Drama</td>\n",
       "      <td>6.100</td>\n",
       "      <td>13</td>\n",
       "    </tr>\n",
       "    <tr>\n",
       "      <th>4</th>\n",
       "      <td>tt0100275</td>\n",
       "      <td>The Wandering Soap Opera</td>\n",
       "      <td>La Telenovela Errante</td>\n",
       "      <td>2017</td>\n",
       "      <td>80.000</td>\n",
       "      <td>Comedy,Drama,Fantasy</td>\n",
       "      <td>6.500</td>\n",
       "      <td>119</td>\n",
       "    </tr>\n",
       "  </tbody>\n",
       "</table>\n",
       "</div>"
      ],
      "text/plain": [
       "      tconst                    primary_title              original_title  \\\n",
       "0  tt0063540                        Sunghursh                   Sunghursh   \n",
       "1  tt0066787  One Day Before the Rainy Season             Ashad Ka Ek Din   \n",
       "2  tt0069049       The Other Side of the Wind  The Other Side of the Wind   \n",
       "3  tt0069204                  Sabse Bada Sukh             Sabse Bada Sukh   \n",
       "4  tt0100275         The Wandering Soap Opera       La Telenovela Errante   \n",
       "\n",
       "   start_year  runtime_minutes                genres  averagerating  numvotes  \n",
       "0        2013          175.000    Action,Crime,Drama          7.000        77  \n",
       "1        2019          114.000       Biography,Drama          7.200        43  \n",
       "2        2018          122.000                 Drama          6.900      4517  \n",
       "3        2018              NaN          Comedy,Drama          6.100        13  \n",
       "4        2017           80.000  Comedy,Drama,Fantasy          6.500       119  "
      ]
     },
     "execution_count": 27,
     "metadata": {},
     "output_type": "execute_result"
    }
   ],
   "source": [
    "#Merging title & rating dataframe\n",
    "title_joined_df=title_df.merge(rating_df)\n",
    "title_joined_df.head()"
   ]
  },
  {
   "cell_type": "code",
   "execution_count": 28,
   "metadata": {},
   "outputs": [
    {
     "data": {
      "text/plain": [
       "0          [Action, Crime, Drama]\n",
       "1              [Biography, Drama]\n",
       "2                         [Drama]\n",
       "3                 [Comedy, Drama]\n",
       "4        [Comedy, Drama, Fantasy]\n",
       "                   ...           \n",
       "73851               [Documentary]\n",
       "73852             [Drama, Family]\n",
       "73853               [Documentary]\n",
       "73854                         NaN\n",
       "73855               [Documentary]\n",
       "Name: genres, Length: 73856, dtype: object"
      ]
     },
     "execution_count": 28,
     "metadata": {},
     "output_type": "execute_result"
    }
   ],
   "source": [
    "title_joined_df['genres'].str.split(',')"
   ]
  },
  {
   "cell_type": "code",
   "execution_count": 29,
   "metadata": {},
   "outputs": [
    {
     "data": {
      "text/html": [
       "<div>\n",
       "<style scoped>\n",
       "    .dataframe tbody tr th:only-of-type {\n",
       "        vertical-align: middle;\n",
       "    }\n",
       "\n",
       "    .dataframe tbody tr th {\n",
       "        vertical-align: top;\n",
       "    }\n",
       "\n",
       "    .dataframe thead th {\n",
       "        text-align: right;\n",
       "    }\n",
       "</style>\n",
       "<table border=\"1\" class=\"dataframe\">\n",
       "  <thead>\n",
       "    <tr style=\"text-align: right;\">\n",
       "      <th></th>\n",
       "      <th>tconst</th>\n",
       "      <th>primary_title</th>\n",
       "      <th>original_title</th>\n",
       "      <th>start_year</th>\n",
       "      <th>runtime_minutes</th>\n",
       "      <th>genres</th>\n",
       "      <th>averagerating</th>\n",
       "      <th>numvotes</th>\n",
       "      <th>new_genres</th>\n",
       "    </tr>\n",
       "  </thead>\n",
       "  <tbody>\n",
       "    <tr>\n",
       "      <th>0</th>\n",
       "      <td>tt0063540</td>\n",
       "      <td>Sunghursh</td>\n",
       "      <td>Sunghursh</td>\n",
       "      <td>2013</td>\n",
       "      <td>175.000</td>\n",
       "      <td>Action,Crime,Drama</td>\n",
       "      <td>7.000</td>\n",
       "      <td>77</td>\n",
       "      <td>[Action, Crime, Drama]</td>\n",
       "    </tr>\n",
       "    <tr>\n",
       "      <th>1</th>\n",
       "      <td>tt0066787</td>\n",
       "      <td>One Day Before the Rainy Season</td>\n",
       "      <td>Ashad Ka Ek Din</td>\n",
       "      <td>2019</td>\n",
       "      <td>114.000</td>\n",
       "      <td>Biography,Drama</td>\n",
       "      <td>7.200</td>\n",
       "      <td>43</td>\n",
       "      <td>[Biography, Drama]</td>\n",
       "    </tr>\n",
       "    <tr>\n",
       "      <th>2</th>\n",
       "      <td>tt0069049</td>\n",
       "      <td>The Other Side of the Wind</td>\n",
       "      <td>The Other Side of the Wind</td>\n",
       "      <td>2018</td>\n",
       "      <td>122.000</td>\n",
       "      <td>Drama</td>\n",
       "      <td>6.900</td>\n",
       "      <td>4517</td>\n",
       "      <td>[Drama]</td>\n",
       "    </tr>\n",
       "    <tr>\n",
       "      <th>3</th>\n",
       "      <td>tt0069204</td>\n",
       "      <td>Sabse Bada Sukh</td>\n",
       "      <td>Sabse Bada Sukh</td>\n",
       "      <td>2018</td>\n",
       "      <td>NaN</td>\n",
       "      <td>Comedy,Drama</td>\n",
       "      <td>6.100</td>\n",
       "      <td>13</td>\n",
       "      <td>[Comedy, Drama]</td>\n",
       "    </tr>\n",
       "    <tr>\n",
       "      <th>4</th>\n",
       "      <td>tt0100275</td>\n",
       "      <td>The Wandering Soap Opera</td>\n",
       "      <td>La Telenovela Errante</td>\n",
       "      <td>2017</td>\n",
       "      <td>80.000</td>\n",
       "      <td>Comedy,Drama,Fantasy</td>\n",
       "      <td>6.500</td>\n",
       "      <td>119</td>\n",
       "      <td>[Comedy, Drama, Fantasy]</td>\n",
       "    </tr>\n",
       "    <tr>\n",
       "      <th>...</th>\n",
       "      <td>...</td>\n",
       "      <td>...</td>\n",
       "      <td>...</td>\n",
       "      <td>...</td>\n",
       "      <td>...</td>\n",
       "      <td>...</td>\n",
       "      <td>...</td>\n",
       "      <td>...</td>\n",
       "      <td>...</td>\n",
       "    </tr>\n",
       "    <tr>\n",
       "      <th>73851</th>\n",
       "      <td>tt9913084</td>\n",
       "      <td>Diabolik sono io</td>\n",
       "      <td>Diabolik sono io</td>\n",
       "      <td>2019</td>\n",
       "      <td>75.000</td>\n",
       "      <td>Documentary</td>\n",
       "      <td>6.200</td>\n",
       "      <td>6</td>\n",
       "      <td>[Documentary]</td>\n",
       "    </tr>\n",
       "    <tr>\n",
       "      <th>73852</th>\n",
       "      <td>tt9914286</td>\n",
       "      <td>Sokagin Çocuklari</td>\n",
       "      <td>Sokagin Çocuklari</td>\n",
       "      <td>2019</td>\n",
       "      <td>98.000</td>\n",
       "      <td>Drama,Family</td>\n",
       "      <td>8.700</td>\n",
       "      <td>136</td>\n",
       "      <td>[Drama, Family]</td>\n",
       "    </tr>\n",
       "    <tr>\n",
       "      <th>73853</th>\n",
       "      <td>tt9914642</td>\n",
       "      <td>Albatross</td>\n",
       "      <td>Albatross</td>\n",
       "      <td>2017</td>\n",
       "      <td>NaN</td>\n",
       "      <td>Documentary</td>\n",
       "      <td>8.500</td>\n",
       "      <td>8</td>\n",
       "      <td>[Documentary]</td>\n",
       "    </tr>\n",
       "    <tr>\n",
       "      <th>73854</th>\n",
       "      <td>tt9914942</td>\n",
       "      <td>La vida sense la Sara Amat</td>\n",
       "      <td>La vida sense la Sara Amat</td>\n",
       "      <td>2019</td>\n",
       "      <td>NaN</td>\n",
       "      <td>NaN</td>\n",
       "      <td>6.600</td>\n",
       "      <td>5</td>\n",
       "      <td>NaN</td>\n",
       "    </tr>\n",
       "    <tr>\n",
       "      <th>73855</th>\n",
       "      <td>tt9916160</td>\n",
       "      <td>Drømmeland</td>\n",
       "      <td>Drømmeland</td>\n",
       "      <td>2019</td>\n",
       "      <td>72.000</td>\n",
       "      <td>Documentary</td>\n",
       "      <td>6.500</td>\n",
       "      <td>11</td>\n",
       "      <td>[Documentary]</td>\n",
       "    </tr>\n",
       "  </tbody>\n",
       "</table>\n",
       "<p>73856 rows × 9 columns</p>\n",
       "</div>"
      ],
      "text/plain": [
       "          tconst                    primary_title              original_title  \\\n",
       "0      tt0063540                        Sunghursh                   Sunghursh   \n",
       "1      tt0066787  One Day Before the Rainy Season             Ashad Ka Ek Din   \n",
       "2      tt0069049       The Other Side of the Wind  The Other Side of the Wind   \n",
       "3      tt0069204                  Sabse Bada Sukh             Sabse Bada Sukh   \n",
       "4      tt0100275         The Wandering Soap Opera       La Telenovela Errante   \n",
       "...          ...                              ...                         ...   \n",
       "73851  tt9913084                 Diabolik sono io            Diabolik sono io   \n",
       "73852  tt9914286                Sokagin Çocuklari           Sokagin Çocuklari   \n",
       "73853  tt9914642                        Albatross                   Albatross   \n",
       "73854  tt9914942       La vida sense la Sara Amat  La vida sense la Sara Amat   \n",
       "73855  tt9916160                       Drømmeland                  Drømmeland   \n",
       "\n",
       "       start_year  runtime_minutes                genres  averagerating  \\\n",
       "0            2013          175.000    Action,Crime,Drama          7.000   \n",
       "1            2019          114.000       Biography,Drama          7.200   \n",
       "2            2018          122.000                 Drama          6.900   \n",
       "3            2018              NaN          Comedy,Drama          6.100   \n",
       "4            2017           80.000  Comedy,Drama,Fantasy          6.500   \n",
       "...           ...              ...                   ...            ...   \n",
       "73851        2019           75.000           Documentary          6.200   \n",
       "73852        2019           98.000          Drama,Family          8.700   \n",
       "73853        2017              NaN           Documentary          8.500   \n",
       "73854        2019              NaN                   NaN          6.600   \n",
       "73855        2019           72.000           Documentary          6.500   \n",
       "\n",
       "       numvotes                new_genres  \n",
       "0            77    [Action, Crime, Drama]  \n",
       "1            43        [Biography, Drama]  \n",
       "2          4517                   [Drama]  \n",
       "3            13           [Comedy, Drama]  \n",
       "4           119  [Comedy, Drama, Fantasy]  \n",
       "...         ...                       ...  \n",
       "73851         6             [Documentary]  \n",
       "73852       136           [Drama, Family]  \n",
       "73853         8             [Documentary]  \n",
       "73854         5                       NaN  \n",
       "73855        11             [Documentary]  \n",
       "\n",
       "[73856 rows x 9 columns]"
      ]
     },
     "execution_count": 29,
     "metadata": {},
     "output_type": "execute_result"
    }
   ],
   "source": [
    "#Creating a new column for genres\n",
    "title_joined_df['new_genres']=title_joined_df['genres'].str.split(',')\n",
    "title_joined_df"
   ]
  },
  {
   "cell_type": "markdown",
   "metadata": {},
   "source": [
    "## Format large tick values"
   ]
  },
  {
   "cell_type": "code",
   "execution_count": 138,
   "metadata": {},
   "outputs": [],
   "source": [
    "from matplotlib.ticker import FuncFormatter"
   ]
  },
  {
   "cell_type": "code",
   "execution_count": null,
   "metadata": {},
   "outputs": [],
   "source": [
    "def millions(tick_val,pos):\n",
    "    \"\"\"adapted from https://dfrieds.com/data-visualizations/how-format-large-tick-values.html\"\"\"\n",
    "    val = round(tick_val/1000000, 1)\n",
    "    new_tick_format = '${:.0f}M'.format(val)\n",
    "    return new_tick_format\n",
    "form = FuncFormatter(millions)"
   ]
  },
  {
   "cell_type": "code",
   "execution_count": null,
   "metadata": {},
   "outputs": [],
   "source": [
    "#Idea of billions function is from above\n",
    "def billions(tick_val,pos):\n",
    "    val = round(tick_val/1000000000,1)\n",
    "    new_tick_format = f'${(val):.2f} B'\n",
    "    return new_tick_format\n",
    "form_b=FuncFormatter(billions)"
   ]
  },
  {
   "cell_type": "markdown",
   "metadata": {},
   "source": [
    "# Data Analysis"
   ]
  },
  {
   "cell_type": "markdown",
   "metadata": {},
   "source": [
    "## Domestic & Worldwide ROI by Month "
   ]
  },
  {
   "cell_type": "markdown",
   "metadata": {},
   "source": [
    "### Domestic ROI by Month"
   ]
  },
  {
   "cell_type": "code",
   "execution_count": 220,
   "metadata": {},
   "outputs": [
    {
     "data": {
      "text/plain": [
       "2.1385281776872485"
      ]
     },
     "execution_count": 220,
     "metadata": {},
     "output_type": "execute_result"
    }
   ],
   "source": [
    "plot_genres = genres_df.groupby('release_month')['domestic_ROI'].mean()\n",
    "max(plot_genres.values)"
   ]
  },
  {
   "cell_type": "code",
   "execution_count": 257,
   "metadata": {
    "scrolled": true
   },
   "outputs": [
    {
     "data": {
      "text/plain": [
       "Text(0.5, 1.0, 'Domestic_ROI by Month')"
      ]
     },
     "execution_count": 257,
     "metadata": {},
     "output_type": "execute_result"
    },
    {
     "data": {
      "image/png": "[encoded data removed]",
      "text/plain": [
       "<Figure size 864x504 with 1 Axes>"
      ]
     },
     "metadata": {},
     "output_type": "display_data"
    }
   ],
   "source": [
    "\"\"\"highlighted the max value for the barhttps://stackoverflow.com/questions/31074758/how-to-set-a-different-color-to-the-largest-bar-in-a-seaborn-barplot\"\"\"\n",
    "sns.set(rc={'figure.figsize':(12,7)})\n",
    "plot_genres = genres_df.groupby('release_month')['domestic_ROI'].mean()\n",
    "clrs=['green' if (value < max(plot_genres.values)) else 'orange' for value in plot_genres.values]\n",
    "ax_d=sns.barplot(data=genres_df,x='release_month',y='domestic_ROI',palette=clrs)\n",
    "ax_d.set_xlabel('Release Month')\n",
    "ax_d.set_ylabel('Domestic ROI')\n",
    "ax_d.set_title('Domestic_ROI by Month')\n",
    "#ax_d.set_xticklabels(ax_w.get_xticklabels());"
   ]
  },
  {
   "cell_type": "markdown",
   "metadata": {},
   "source": [
    "### Worldwide ROI by Month"
   ]
  },
  {
   "cell_type": "code",
   "execution_count": 258,
   "metadata": {},
   "outputs": [
    {
     "data": {
      "image/png": "[encoded data removed]",
      "text/plain": [
       "<Figure size 864x504 with 1 Axes>"
      ]
     },
     "metadata": {},
     "output_type": "display_data"
    }
   ],
   "source": [
    "# Finding out worldwide_ROI in released month\n",
    "sns.set(rc={'figure.figsize':(12,7)})\n",
    "plot_genres = genres_df.groupby('release_month')['worldwide_ROI'].mean()\n",
    "clrs=['blue' if (value < max(plot_genres.values)) else 'orange' for value in plot_genres.values]\n",
    "ax_w=sns.barplot(data=genres_df,x='release_month',y='worldwide_ROI',palette=clrs)\n",
    "ax_w.set_xlabel('Release Month')\n",
    "ax_w.set_ylabel('Worldwide ROI')\n",
    "ax_w.set_title('Worldwide ROI by Month')\n",
    "ax_w.set_xticklabels(ax_w.get_xticklabels());"
   ]
  },
  {
   "cell_type": "markdown",
   "metadata": {},
   "source": [
    "## Domestic and Worldwide ROI by Season"
   ]
  },
  {
   "cell_type": "markdown",
   "metadata": {},
   "source": [
    "### Domestic ROI by Season"
   ]
  },
  {
   "cell_type": "code",
   "execution_count": 241,
   "metadata": {},
   "outputs": [
    {
     "data": {
      "image/png": "[encoded data removed]",
      "text/plain": [
       "<Figure size 576x432 with 1 Axes>"
      ]
     },
     "metadata": {},
     "output_type": "display_data"
    }
   ],
   "source": [
    "fig,ax=plt.subplots(figsize=(8,6))\n",
    "plt.style.use('ggplot')\n",
    "genres_df.groupby('Seasons')['domestic_ROI'].mean().plot(kind='bar',color='pink')\n",
    "ax.set_ylabel('Domestic_ROI')\n",
    "ax.set_xlabel('Season')\n",
    "ax.set_title('Domestic_ROI by Season')\n",
    "ax.set_xticklabels(ax.get_xticklabels(),rotation=0)\n",
    "plt.show()"
   ]
  },
  {
   "cell_type": "code",
   "execution_count": 271,
   "metadata": {
    "scrolled": true
   },
   "outputs": [
    {
     "data": {
      "text/plain": [
       "Seasons\n",
       "Fall     1.056\n",
       "Spring   0.581\n",
       "Summer   1.201\n",
       "Winter   1.182\n",
       "Name: domestic_ROI, dtype: float64"
      ]
     },
     "execution_count": 271,
     "metadata": {},
     "output_type": "execute_result"
    }
   ],
   "source": [
    "plot_d_genres= genres_df.groupby('Seasons')['domestic_ROI'].mean()\n",
    "\n",
    "plot_d_genres"
   ]
  },
  {
   "cell_type": "code",
   "execution_count": 274,
   "metadata": {},
   "outputs": [
    {
     "data": {
      "image/png": "[encoded data removed]",
      "text/plain": [
       "<Figure size 864x504 with 1 Axes>"
      ]
     },
     "metadata": {},
     "output_type": "display_data"
    }
   ],
   "source": [
    "# Finding out domestic_ROI in different seasons\n",
    "sns.set(rc={'figure.figsize':(12,7)})\n",
    "plot_d_genres= genres_df.groupby('Seasons')['domestic_ROI'].mean()\n",
    "clrs=['pink' if (x < max(plot_d_genres.values)) else 'blue' for x in plot_d_genres.values]\n",
    "ax_d=sns.barplot\n",
    "ax_d=sns.barplot(data=plot_d_genres,x=plot_d_genres.index,y=plot_d_genres.values,palette=clrs)\n",
    "ax_d.set_ylabel('Domestic_ROI')\n",
    "ax_d.set_xlabel('Season')\n",
    "ax_d.set_title('Domestic_ROI by Season')\n",
    "ax_d.set_xticklabels(ax.get_xticklabels(),rotation=0)\n",
    "plt.show()"
   ]
  },
  {
   "cell_type": "markdown",
   "metadata": {},
   "source": [
    "### Worldwide ROI by Season"
   ]
  },
  {
   "cell_type": "code",
   "execution_count": 263,
   "metadata": {},
   "outputs": [
    {
     "data": {
      "text/plain": [
       "3.7818455672845372"
      ]
     },
     "execution_count": 263,
     "metadata": {},
     "output_type": "execute_result"
    }
   ],
   "source": [
    "plot_w_genres= genres_df.groupby('Seasons')['worldwide_ROI'].mean()\n",
    "max(plot_w_genres.values)"
   ]
  },
  {
   "cell_type": "code",
   "execution_count": 272,
   "metadata": {},
   "outputs": [
    {
     "data": {
      "image/png": "[encoded data removed]",
      "text/plain": [
       "<Figure size 864x504 with 1 Axes>"
      ]
     },
     "metadata": {},
     "output_type": "display_data"
    }
   ],
   "source": [
    "# Finding out worldwide_ROI by season\n",
    "sns.set(rc={'figure.figsize':(12,7)})\n",
    "plot_w_genres= genres_df.groupby('Seasons')['worldwide_ROI'].mean()\n",
    "clrs=['pink' if (value < max(plot_w_genres.values)) else 'red' for value in plot_w_genres.values]\n",
    "ax_w=sns.barplot(data=genres_df,x='Seasons',y='worldwide_ROI',palette=clrs)\n",
    "ax_w.set_ylabel('Worldwide_ROI')\n",
    "ax_w.set_xlabel('Season')\n",
    "ax_w.set_title('Wordlwide_ROI by Season')\n",
    "ax_w.set_xticklabels(ax.get_xticklabels(),rotation=0)\n",
    "plt.show()"
   ]
  },
  {
   "cell_type": "code",
   "execution_count": null,
   "metadata": {},
   "outputs": [],
   "source": [
    "fig,ax=plt.subplots(figsize=(8,6))\n",
    "plt.style.use('ggplot')\n",
    "genres_df.groupby('Seasons')['worldwide_ROI'].mean().plot(kind='bar',color='grey')\n",
    "\n",
    "ax.set_ylabel('Worldwide_ROI')\n",
    "ax.set_xlabel('Season')\n",
    "ax.set_title('Wordlwide_ROI by Season')\n",
    "ax.set_xticklabels(ax.get_xticklabels(),rotation=0)\n",
    "plt.show()"
   ]
  },
  {
   "cell_type": "markdown",
   "metadata": {},
   "source": [
    "## Production Budget"
   ]
  },
  {
   "cell_type": "markdown",
   "metadata": {},
   "source": [
    "###  Production Budget Fast Fact"
   ]
  },
  {
   "cell_type": "code",
   "execution_count": 36,
   "metadata": {},
   "outputs": [
    {
     "data": {
      "text/plain": [
       "count        7204.000\n",
       "mean     37141666.489\n",
       "std      49865464.666\n",
       "min          1400.000\n",
       "25%       5000000.000\n",
       "50%      18000000.000\n",
       "75%      45000000.000\n",
       "max     425000000.000\n",
       "Name: production_budget, dtype: float64"
      ]
     },
     "execution_count": 36,
     "metadata": {},
     "output_type": "execute_result"
    }
   ],
   "source": [
    "genres_df['production_budget'].describe()"
   ]
  },
  {
   "cell_type": "markdown",
   "metadata": {},
   "source": [
    "### Relation between Production Budget and Worldwide Gross"
   ]
  },
  {
   "cell_type": "code",
   "execution_count": 199,
   "metadata": {},
   "outputs": [
    {
     "data": {
      "image/png": "[encoded data removed]",
      "text/plain": [
       "<Figure size 864x504 with 1 Axes>"
      ]
     },
     "metadata": {},
     "output_type": "display_data"
    }
   ],
   "source": [
    "#Knowing the relation between production_budget and worldwide_gross\n",
    "ax_b=sns.regplot(data=genres_df,x='production_budget',y='worldwide_gross',scatter_kws={'color':'pink'},line_kws={'color':'blue'})\n",
    "plt.ticklabel_format(style='plain', axis='y')\n",
    "ax_b.set_ylabel('Production Budget')\n",
    "ax_b.set_xlabel('Worldwide Gross')\n",
    "ax_b.set_title('Relation between Production Budget and Worldwide Gross')\n",
    "ax_b.xaxis.set_major_formatter(form)\n",
    "ax_b.yaxis.set_major_formatter(form_b)"
   ]
  },
  {
   "cell_type": "markdown",
   "metadata": {},
   "source": [
    "### Visualization of Production Budget Distribution"
   ]
  },
  {
   "cell_type": "code",
   "execution_count": 41,
   "metadata": {},
   "outputs": [
    {
     "data": {
      "image/png": "[encoded data removed]",
      "text/plain": [
       "<Figure size 864x504 with 1 Axes>"
      ]
     },
     "metadata": {},
     "output_type": "display_data"
    }
   ],
   "source": [
    "ax_b=sns.histplot(data=genres_df,x='production_budget',bins=5)\n",
    "plt.ticklabel_format(style='plain', axis='y')\n",
    "#ax_b.xaxis.set_major_formatter('${x:,.0f}')\n",
    "ax_b.xaxis.set_major_formatter(form)"
   ]
  },
  {
   "cell_type": "markdown",
   "metadata": {},
   "source": [
    "### Production Budget greater than $100,000,000"
   ]
  },
  {
   "cell_type": "code",
   "execution_count": 52,
   "metadata": {},
   "outputs": [
    {
     "data": {
      "text/html": [
       "<div>\n",
       "<style scoped>\n",
       "    .dataframe tbody tr th:only-of-type {\n",
       "        vertical-align: middle;\n",
       "    }\n",
       "\n",
       "    .dataframe tbody tr th {\n",
       "        vertical-align: top;\n",
       "    }\n",
       "\n",
       "    .dataframe thead th {\n",
       "        text-align: right;\n",
       "    }\n",
       "</style>\n",
       "<table border=\"1\" class=\"dataframe\">\n",
       "  <thead>\n",
       "    <tr style=\"text-align: right;\">\n",
       "      <th></th>\n",
       "      <th>tconst</th>\n",
       "      <th>primary_title</th>\n",
       "      <th>original_title</th>\n",
       "      <th>runtime_minutes</th>\n",
       "      <th>genres</th>\n",
       "      <th>release_date</th>\n",
       "      <th>production_budget</th>\n",
       "      <th>domestic_gross</th>\n",
       "      <th>worldwide_gross</th>\n",
       "      <th>release_year</th>\n",
       "      <th>release_month</th>\n",
       "      <th>domestic_ROI</th>\n",
       "      <th>worldwide_ROI</th>\n",
       "      <th>new_genres</th>\n",
       "      <th>Seasons</th>\n",
       "      <th>high_budget</th>\n",
       "    </tr>\n",
       "  </thead>\n",
       "  <tbody>\n",
       "    <tr>\n",
       "      <th>0</th>\n",
       "      <td>tt0249516</td>\n",
       "      <td>Foodfight!</td>\n",
       "      <td>Foodfight!</td>\n",
       "      <td>91.000</td>\n",
       "      <td>Action,Animation,Comedy</td>\n",
       "      <td>2012-12-31</td>\n",
       "      <td>45000000.000</td>\n",
       "      <td>0.000</td>\n",
       "      <td>73706.000</td>\n",
       "      <td>2012</td>\n",
       "      <td>12</td>\n",
       "      <td>-1.000</td>\n",
       "      <td>-0.998</td>\n",
       "      <td>Action</td>\n",
       "      <td>Winter</td>\n",
       "      <td>False</td>\n",
       "    </tr>\n",
       "    <tr>\n",
       "      <th>0</th>\n",
       "      <td>tt0249516</td>\n",
       "      <td>Foodfight!</td>\n",
       "      <td>Foodfight!</td>\n",
       "      <td>91.000</td>\n",
       "      <td>Action,Animation,Comedy</td>\n",
       "      <td>2012-12-31</td>\n",
       "      <td>45000000.000</td>\n",
       "      <td>0.000</td>\n",
       "      <td>73706.000</td>\n",
       "      <td>2012</td>\n",
       "      <td>12</td>\n",
       "      <td>-1.000</td>\n",
       "      <td>-0.998</td>\n",
       "      <td>Animation</td>\n",
       "      <td>Winter</td>\n",
       "      <td>False</td>\n",
       "    </tr>\n",
       "    <tr>\n",
       "      <th>0</th>\n",
       "      <td>tt0249516</td>\n",
       "      <td>Foodfight!</td>\n",
       "      <td>Foodfight!</td>\n",
       "      <td>91.000</td>\n",
       "      <td>Action,Animation,Comedy</td>\n",
       "      <td>2012-12-31</td>\n",
       "      <td>45000000.000</td>\n",
       "      <td>0.000</td>\n",
       "      <td>73706.000</td>\n",
       "      <td>2012</td>\n",
       "      <td>12</td>\n",
       "      <td>-1.000</td>\n",
       "      <td>-0.998</td>\n",
       "      <td>Comedy</td>\n",
       "      <td>Winter</td>\n",
       "      <td>False</td>\n",
       "    </tr>\n",
       "    <tr>\n",
       "      <th>3</th>\n",
       "      <td>tt3844362</td>\n",
       "      <td>The Overnight</td>\n",
       "      <td>The Overnight</td>\n",
       "      <td>79.000</td>\n",
       "      <td>Comedy,Mystery</td>\n",
       "      <td>2015-06-19</td>\n",
       "      <td>200000.000</td>\n",
       "      <td>1109808.000</td>\n",
       "      <td>1165996.000</td>\n",
       "      <td>2015</td>\n",
       "      <td>6</td>\n",
       "      <td>4.549</td>\n",
       "      <td>4.830</td>\n",
       "      <td>Comedy</td>\n",
       "      <td>Summer</td>\n",
       "      <td>False</td>\n",
       "    </tr>\n",
       "    <tr>\n",
       "      <th>3</th>\n",
       "      <td>tt3844362</td>\n",
       "      <td>The Overnight</td>\n",
       "      <td>The Overnight</td>\n",
       "      <td>79.000</td>\n",
       "      <td>Comedy,Mystery</td>\n",
       "      <td>2015-06-19</td>\n",
       "      <td>200000.000</td>\n",
       "      <td>1109808.000</td>\n",
       "      <td>1165996.000</td>\n",
       "      <td>2015</td>\n",
       "      <td>6</td>\n",
       "      <td>4.549</td>\n",
       "      <td>4.830</td>\n",
       "      <td>Mystery</td>\n",
       "      <td>Summer</td>\n",
       "      <td>False</td>\n",
       "    </tr>\n",
       "    <tr>\n",
       "      <th>...</th>\n",
       "      <td>...</td>\n",
       "      <td>...</td>\n",
       "      <td>...</td>\n",
       "      <td>...</td>\n",
       "      <td>...</td>\n",
       "      <td>...</td>\n",
       "      <td>...</td>\n",
       "      <td>...</td>\n",
       "      <td>...</td>\n",
       "      <td>...</td>\n",
       "      <td>...</td>\n",
       "      <td>...</td>\n",
       "      <td>...</td>\n",
       "      <td>...</td>\n",
       "      <td>...</td>\n",
       "      <td>...</td>\n",
       "    </tr>\n",
       "    <tr>\n",
       "      <th>3809</th>\n",
       "      <td>tt9607270</td>\n",
       "      <td>The Blue Bird</td>\n",
       "      <td>The Blue Bird</td>\n",
       "      <td>84.000</td>\n",
       "      <td>Drama</td>\n",
       "      <td>1976-01-01</td>\n",
       "      <td>1200000.000</td>\n",
       "      <td>887000.000</td>\n",
       "      <td>887000.000</td>\n",
       "      <td>1976</td>\n",
       "      <td>1</td>\n",
       "      <td>-0.261</td>\n",
       "      <td>-0.261</td>\n",
       "      <td>Drama</td>\n",
       "      <td>Winter</td>\n",
       "      <td>False</td>\n",
       "    </tr>\n",
       "    <tr>\n",
       "      <th>3812</th>\n",
       "      <td>tt9805168</td>\n",
       "      <td>Traitor</td>\n",
       "      <td>Traitor</td>\n",
       "      <td>110.000</td>\n",
       "      <td>Action,Drama,Romance</td>\n",
       "      <td>2008-08-27</td>\n",
       "      <td>22000000.000</td>\n",
       "      <td>23530831.000</td>\n",
       "      <td>27882226.000</td>\n",
       "      <td>2008</td>\n",
       "      <td>8</td>\n",
       "      <td>0.070</td>\n",
       "      <td>0.267</td>\n",
       "      <td>Action</td>\n",
       "      <td>Summer</td>\n",
       "      <td>False</td>\n",
       "    </tr>\n",
       "    <tr>\n",
       "      <th>3812</th>\n",
       "      <td>tt9805168</td>\n",
       "      <td>Traitor</td>\n",
       "      <td>Traitor</td>\n",
       "      <td>110.000</td>\n",
       "      <td>Action,Drama,Romance</td>\n",
       "      <td>2008-08-27</td>\n",
       "      <td>22000000.000</td>\n",
       "      <td>23530831.000</td>\n",
       "      <td>27882226.000</td>\n",
       "      <td>2008</td>\n",
       "      <td>8</td>\n",
       "      <td>0.070</td>\n",
       "      <td>0.267</td>\n",
       "      <td>Drama</td>\n",
       "      <td>Summer</td>\n",
       "      <td>False</td>\n",
       "    </tr>\n",
       "    <tr>\n",
       "      <th>3812</th>\n",
       "      <td>tt9805168</td>\n",
       "      <td>Traitor</td>\n",
       "      <td>Traitor</td>\n",
       "      <td>110.000</td>\n",
       "      <td>Action,Drama,Romance</td>\n",
       "      <td>2008-08-27</td>\n",
       "      <td>22000000.000</td>\n",
       "      <td>23530831.000</td>\n",
       "      <td>27882226.000</td>\n",
       "      <td>2008</td>\n",
       "      <td>8</td>\n",
       "      <td>0.070</td>\n",
       "      <td>0.267</td>\n",
       "      <td>Romance</td>\n",
       "      <td>Summer</td>\n",
       "      <td>False</td>\n",
       "    </tr>\n",
       "    <tr>\n",
       "      <th>3813</th>\n",
       "      <td>tt9844102</td>\n",
       "      <td>Ray</td>\n",
       "      <td>Ray</td>\n",
       "      <td>111.000</td>\n",
       "      <td>Crime</td>\n",
       "      <td>2004-10-29</td>\n",
       "      <td>40000000.000</td>\n",
       "      <td>75305995.000</td>\n",
       "      <td>124823094.000</td>\n",
       "      <td>2004</td>\n",
       "      <td>10</td>\n",
       "      <td>0.883</td>\n",
       "      <td>2.121</td>\n",
       "      <td>Crime</td>\n",
       "      <td>Fall</td>\n",
       "      <td>False</td>\n",
       "    </tr>\n",
       "  </tbody>\n",
       "</table>\n",
       "<p>7204 rows × 16 columns</p>\n",
       "</div>"
      ],
      "text/plain": [
       "         tconst  primary_title original_title  runtime_minutes  \\\n",
       "0     tt0249516     Foodfight!     Foodfight!           91.000   \n",
       "0     tt0249516     Foodfight!     Foodfight!           91.000   \n",
       "0     tt0249516     Foodfight!     Foodfight!           91.000   \n",
       "3     tt3844362  The Overnight  The Overnight           79.000   \n",
       "3     tt3844362  The Overnight  The Overnight           79.000   \n",
       "...         ...            ...            ...              ...   \n",
       "3809  tt9607270  The Blue Bird  The Blue Bird           84.000   \n",
       "3812  tt9805168        Traitor        Traitor          110.000   \n",
       "3812  tt9805168        Traitor        Traitor          110.000   \n",
       "3812  tt9805168        Traitor        Traitor          110.000   \n",
       "3813  tt9844102            Ray            Ray          111.000   \n",
       "\n",
       "                       genres release_date  production_budget  domestic_gross  \\\n",
       "0     Action,Animation,Comedy   2012-12-31       45000000.000           0.000   \n",
       "0     Action,Animation,Comedy   2012-12-31       45000000.000           0.000   \n",
       "0     Action,Animation,Comedy   2012-12-31       45000000.000           0.000   \n",
       "3              Comedy,Mystery   2015-06-19         200000.000     1109808.000   \n",
       "3              Comedy,Mystery   2015-06-19         200000.000     1109808.000   \n",
       "...                       ...          ...                ...             ...   \n",
       "3809                    Drama   1976-01-01        1200000.000      887000.000   \n",
       "3812     Action,Drama,Romance   2008-08-27       22000000.000    23530831.000   \n",
       "3812     Action,Drama,Romance   2008-08-27       22000000.000    23530831.000   \n",
       "3812     Action,Drama,Romance   2008-08-27       22000000.000    23530831.000   \n",
       "3813                    Crime   2004-10-29       40000000.000    75305995.000   \n",
       "\n",
       "      worldwide_gross  release_year  release_month  domestic_ROI  \\\n",
       "0           73706.000          2012             12        -1.000   \n",
       "0           73706.000          2012             12        -1.000   \n",
       "0           73706.000          2012             12        -1.000   \n",
       "3         1165996.000          2015              6         4.549   \n",
       "3         1165996.000          2015              6         4.549   \n",
       "...               ...           ...            ...           ...   \n",
       "3809       887000.000          1976              1        -0.261   \n",
       "3812     27882226.000          2008              8         0.070   \n",
       "3812     27882226.000          2008              8         0.070   \n",
       "3812     27882226.000          2008              8         0.070   \n",
       "3813    124823094.000          2004             10         0.883   \n",
       "\n",
       "      worldwide_ROI new_genres Seasons  high_budget  \n",
       "0            -0.998     Action  Winter        False  \n",
       "0            -0.998  Animation  Winter        False  \n",
       "0            -0.998     Comedy  Winter        False  \n",
       "3             4.830     Comedy  Summer        False  \n",
       "3             4.830    Mystery  Summer        False  \n",
       "...             ...        ...     ...          ...  \n",
       "3809         -0.261      Drama  Winter        False  \n",
       "3812          0.267     Action  Summer        False  \n",
       "3812          0.267      Drama  Summer        False  \n",
       "3812          0.267    Romance  Summer        False  \n",
       "3813          2.121      Crime    Fall        False  \n",
       "\n",
       "[7204 rows x 16 columns]"
      ]
     },
     "execution_count": 52,
     "metadata": {},
     "output_type": "execute_result"
    }
   ],
   "source": [
    "#Creating a high_budget column for production budget greater than $100,000,000\n",
    "genres_df['high_budget']=genres_df['production_budget']>=100_000_000\n",
    "genres_df"
   ]
  },
  {
   "cell_type": "code",
   "execution_count": 53,
   "metadata": {},
   "outputs": [
    {
     "data": {
      "text/plain": [
       "Index(['Musical', 'Horror', 'Mystery', 'Family', 'Animation', 'Documentary',\n",
       "       'Thriller', 'Biography', 'Fantasy', 'Music'],\n",
       "      dtype='object', name='new_genres')"
      ]
     },
     "execution_count": 53,
     "metadata": {},
     "output_type": "execute_result"
    }
   ],
   "source": [
    "genres_mean=genres_df.groupby('new_genres').mean()['worldwide_ROI'].sort_values(ascending=False)\n",
    "genres_mean.index[:10]"
   ]
  },
  {
   "cell_type": "code",
   "execution_count": 130,
   "metadata": {},
   "outputs": [
    {
     "data": {
      "image/png": "[encoded data removed]",
      "text/plain": [
       "<Figure size 864x504 with 1 Axes>"
      ]
     },
     "metadata": {},
     "output_type": "display_data"
    }
   ],
   "source": [
    "#creating a barplot to analyze high production budgets and genres,limit to top 10 genres\n",
    "ax=sns.barplot(data=genres_df,order= genres_mean.index[:10],x='new_genres',y='worldwide_ROI',hue='high_budget')\n",
    "ax.set_xlabel('Genres')\n",
    "ax.set_ylabel('Worldwide ROI')\n",
    "ax.legend()\n",
    "ax.set_xticklabels(ax.get_xticklabels(),rotation=45,ha=\"right\");"
   ]
  },
  {
   "cell_type": "markdown",
   "metadata": {},
   "source": [
    "## Gross and ROI by Genre"
   ]
  },
  {
   "cell_type": "markdown",
   "metadata": {},
   "source": [
    "### The Movie with the Highest Worldwide ROI "
   ]
  },
  {
   "cell_type": "code",
   "execution_count": 45,
   "metadata": {},
   "outputs": [
    {
     "data": {
      "text/html": [
       "<div>\n",
       "<style scoped>\n",
       "    .dataframe tbody tr th:only-of-type {\n",
       "        vertical-align: middle;\n",
       "    }\n",
       "\n",
       "    .dataframe tbody tr th {\n",
       "        vertical-align: top;\n",
       "    }\n",
       "\n",
       "    .dataframe thead th {\n",
       "        text-align: right;\n",
       "    }\n",
       "</style>\n",
       "<table border=\"1\" class=\"dataframe\">\n",
       "  <thead>\n",
       "    <tr style=\"text-align: right;\">\n",
       "      <th></th>\n",
       "      <th>tconst</th>\n",
       "      <th>primary_title</th>\n",
       "      <th>original_title</th>\n",
       "      <th>runtime_minutes</th>\n",
       "      <th>genres</th>\n",
       "      <th>release_date</th>\n",
       "      <th>production_budget</th>\n",
       "      <th>domestic_gross</th>\n",
       "      <th>worldwide_gross</th>\n",
       "      <th>release_year</th>\n",
       "      <th>release_month</th>\n",
       "      <th>domestic_ROI</th>\n",
       "      <th>worldwide_ROI</th>\n",
       "      <th>new_genres</th>\n",
       "      <th>Seasons</th>\n",
       "      <th>high_budget</th>\n",
       "    </tr>\n",
       "  </thead>\n",
       "  <tbody>\n",
       "    <tr>\n",
       "      <th>2607</th>\n",
       "      <td>tt2309260</td>\n",
       "      <td>The Gallows</td>\n",
       "      <td>The Gallows</td>\n",
       "      <td>81.000</td>\n",
       "      <td>Horror,Mystery,Thriller</td>\n",
       "      <td>2015-07-10</td>\n",
       "      <td>100000.000</td>\n",
       "      <td>22764410.000</td>\n",
       "      <td>41656474.000</td>\n",
       "      <td>2015</td>\n",
       "      <td>7</td>\n",
       "      <td>226.644</td>\n",
       "      <td>415.565</td>\n",
       "      <td>Horror</td>\n",
       "      <td>Summer</td>\n",
       "      <td>False</td>\n",
       "    </tr>\n",
       "    <tr>\n",
       "      <th>2607</th>\n",
       "      <td>tt2309260</td>\n",
       "      <td>The Gallows</td>\n",
       "      <td>The Gallows</td>\n",
       "      <td>81.000</td>\n",
       "      <td>Horror,Mystery,Thriller</td>\n",
       "      <td>2015-07-10</td>\n",
       "      <td>100000.000</td>\n",
       "      <td>22764410.000</td>\n",
       "      <td>41656474.000</td>\n",
       "      <td>2015</td>\n",
       "      <td>7</td>\n",
       "      <td>226.644</td>\n",
       "      <td>415.565</td>\n",
       "      <td>Mystery</td>\n",
       "      <td>Summer</td>\n",
       "      <td>False</td>\n",
       "    </tr>\n",
       "    <tr>\n",
       "      <th>2607</th>\n",
       "      <td>tt2309260</td>\n",
       "      <td>The Gallows</td>\n",
       "      <td>The Gallows</td>\n",
       "      <td>81.000</td>\n",
       "      <td>Horror,Mystery,Thriller</td>\n",
       "      <td>2015-07-10</td>\n",
       "      <td>100000.000</td>\n",
       "      <td>22764410.000</td>\n",
       "      <td>41656474.000</td>\n",
       "      <td>2015</td>\n",
       "      <td>7</td>\n",
       "      <td>226.644</td>\n",
       "      <td>415.565</td>\n",
       "      <td>Thriller</td>\n",
       "      <td>Summer</td>\n",
       "      <td>False</td>\n",
       "    </tr>\n",
       "  </tbody>\n",
       "</table>\n",
       "</div>"
      ],
      "text/plain": [
       "         tconst primary_title original_title  runtime_minutes  \\\n",
       "2607  tt2309260   The Gallows    The Gallows           81.000   \n",
       "2607  tt2309260   The Gallows    The Gallows           81.000   \n",
       "2607  tt2309260   The Gallows    The Gallows           81.000   \n",
       "\n",
       "                       genres release_date  production_budget  domestic_gross  \\\n",
       "2607  Horror,Mystery,Thriller   2015-07-10         100000.000    22764410.000   \n",
       "2607  Horror,Mystery,Thriller   2015-07-10         100000.000    22764410.000   \n",
       "2607  Horror,Mystery,Thriller   2015-07-10         100000.000    22764410.000   \n",
       "\n",
       "      worldwide_gross  release_year  release_month  domestic_ROI  \\\n",
       "2607     41656474.000          2015              7       226.644   \n",
       "2607     41656474.000          2015              7       226.644   \n",
       "2607     41656474.000          2015              7       226.644   \n",
       "\n",
       "      worldwide_ROI new_genres Seasons  high_budget  \n",
       "2607        415.565     Horror  Summer        False  \n",
       "2607        415.565    Mystery  Summer        False  \n",
       "2607        415.565   Thriller  Summer        False  "
      ]
     },
     "execution_count": 45,
     "metadata": {},
     "output_type": "execute_result"
    }
   ],
   "source": [
    "highest_ROI=genres_df[genres_df['worldwide_ROI']==genres_df['worldwide_ROI'].max()]\n",
    "highest_ROI"
   ]
  },
  {
   "cell_type": "markdown",
   "metadata": {},
   "source": [
    "### Top 10 Worldwide ROI by Genres"
   ]
  },
  {
   "cell_type": "code",
   "execution_count": 46,
   "metadata": {},
   "outputs": [
    {
     "data": {
      "text/plain": [
       "Index(['Musical', 'Horror', 'Mystery', 'Family', 'Animation', 'Documentary',\n",
       "       'Thriller', 'Biography', 'Fantasy', 'Music', 'Sport', 'History',\n",
       "       'Romance', 'Drama', 'Comedy', 'Sci-Fi', 'Adventure', 'Action', 'Crime',\n",
       "       'War', 'News', 'Western', 'Reality-TV'],\n",
       "      dtype='object', name='new_genres')"
      ]
     },
     "execution_count": 46,
     "metadata": {},
     "output_type": "execute_result"
    }
   ],
   "source": [
    "worldwide_ROI_mean_df=genres_df.groupby('new_genres').mean()['worldwide_ROI'].sort_values(ascending= False)\n",
    "worldwide_ROI_mean_df.index"
   ]
  },
  {
   "cell_type": "code",
   "execution_count": 203,
   "metadata": {},
   "outputs": [
    {
     "data": {
      "image/png": "[encoded data removed]",
      "text/plain": [
       "<Figure size 864x504 with 1 Axes>"
      ]
     },
     "metadata": {},
     "output_type": "display_data"
    }
   ],
   "source": [
    "ax=sns.barplot(data=genres_df,order= worldwide_ROI_mean_df.index[:10],x='new_genres',y='worldwide_ROI',palette='summer')\n",
    "ax.set_xlabel('Genres')\n",
    "ax.set_ylabel('Worldwide ROI')\n",
    "ax.set_title('Top 10 Worldwide ROI by Genre')\n",
    "ax.set_xticklabels(ax.get_xticklabels(),rotation=45,ha=\"right\");"
   ]
  },
  {
   "cell_type": "markdown",
   "metadata": {},
   "source": [
    "### Top 10 Domestic ROI by Genres"
   ]
  },
  {
   "cell_type": "code",
   "execution_count": 48,
   "metadata": {},
   "outputs": [
    {
     "data": {
      "text/plain": [
       "Index(['Musical', 'Horror', 'Mystery', 'Family', 'Sport', 'Thriller',\n",
       "       'Animation', 'Fantasy', 'Biography', 'Music', 'History', 'Romance',\n",
       "       'Comedy', 'Documentary', 'Drama', 'Sci-Fi', 'Action', 'Crime',\n",
       "       'Adventure', 'Western', 'War', 'News'],\n",
       "      dtype='object', name='new_genres')"
      ]
     },
     "execution_count": 48,
     "metadata": {},
     "output_type": "execute_result"
    }
   ],
   "source": [
    "domestic_ROI_mean_df=genres_df.groupby('new_genres').mean()['domestic_ROI'].sort_values(ascending=False)\n",
    "domestic_ROI_mean_df.index[:-1]"
   ]
  },
  {
   "cell_type": "code",
   "execution_count": 205,
   "metadata": {},
   "outputs": [
    {
     "data": {
      "image/png": "[encoded data removed]",
      "text/plain": [
       "<Figure size 864x504 with 1 Axes>"
      ]
     },
     "metadata": {},
     "output_type": "display_data"
    }
   ],
   "source": [
    "ax=sns.barplot(data=genres_df,order= domestic_ROI_mean_df.index[:10],x='new_genres',y='domestic_ROI',palette='spring')\n",
    "ax.set_xlabel('Genres')\n",
    "ax.set_ylabel('Domestic ROI')\n",
    "ax.set_title('Top 10 Domestic ROI by Genre')\n",
    "ax.set_xticklabels(ax.get_xticklabels(),rotation=45,ha=\"right\");"
   ]
  },
  {
   "cell_type": "markdown",
   "metadata": {},
   "source": [
    "### Genres by Domestic Gross "
   ]
  },
  {
   "cell_type": "code",
   "execution_count": 116,
   "metadata": {},
   "outputs": [
    {
     "data": {
      "image/png": "[encoded data removed]",
      "text/plain": [
       "<Figure size 864x504 with 1 Axes>"
      ]
     },
     "metadata": {},
     "output_type": "display_data"
    }
   ],
   "source": [
    "domestic_gross_df=genres_df.groupby('new_genres').mean()['domestic_gross'].sort_values(ascending=False)\n",
    "ax=domestic_gross_df.plot(kind='bar',color='green')\n",
    "ax.set_ylabel('Domestic Gross')\n",
    "ax.set_xlabel('Genres')\n",
    "ax.set_title('Domestic Gross by Genres')\n",
    "ax.set_xticklabels(ax.get_xticklabels(),rotation=90)\n",
    "ax.yaxis.set_major_formatter(form)\n",
    "plt.show()"
   ]
  },
  {
   "cell_type": "markdown",
   "metadata": {},
   "source": [
    "### Genres by Worldwide Gross"
   ]
  },
  {
   "cell_type": "code",
   "execution_count": 114,
   "metadata": {},
   "outputs": [
    {
     "data": {
      "image/png": "[encoded data removed]",
      "text/plain": [
       "<Figure size 864x504 with 1 Axes>"
      ]
     },
     "metadata": {},
     "output_type": "display_data"
    }
   ],
   "source": [
    "world_gross_df=genres_df.groupby('new_genres').mean()['worldwide_gross'].sort_values(ascending=False)\n",
    "ax=world_gross_df.plot(kind='bar',color='orange')\n",
    "ax.set_ylabel('Worldwide Gross')\n",
    "ax.set_xlabel('Genres')\n",
    "ax.set_title('Worldwide Gross by Genres')\n",
    "ax.set_xticklabels(ax.get_xticklabels(),rotation=90)\n",
    "ax.yaxis.set_major_formatter(form)\n",
    "plt.show()"
   ]
  },
  {
   "cell_type": "markdown",
   "metadata": {},
   "source": [
    "### Domestic ROI by Genre in Summer"
   ]
  },
  {
   "cell_type": "code",
   "execution_count": 154,
   "metadata": {},
   "outputs": [],
   "source": [
    "#Domestic ROI in Summer by Genre\n",
    "summer= genres_df.loc[genres_df['Seasons']=='Summer',['domestic_ROI','new_genres']]\n",
    "summer_genres=summer.groupby('new_genres').mean()['domestic_ROI'].sort_values(ascending=False)"
   ]
  },
  {
   "cell_type": "code",
   "execution_count": 155,
   "metadata": {},
   "outputs": [
    {
     "data": {
      "image/png": "[encoded data removed]",
      "text/plain": [
       "<Figure size 864x504 with 1 Axes>"
      ]
     },
     "metadata": {},
     "output_type": "display_data"
    }
   ],
   "source": [
    "ax=summer_genres.plot(kind='bar',color='purple')\n",
    "ax.set_ylabel('Domestic_ROI')\n",
    "ax.set_xlabel('Genres in Summer')\n",
    "ax.set_title('Domestic_ROI by Genres')\n",
    "ax.set_xticklabels(ax.get_xticklabels(),rotation=90)\n",
    "\n",
    "plt.show()"
   ]
  },
  {
   "cell_type": "markdown",
   "metadata": {},
   "source": [
    "### Top 10 Average Domestic ROI by Genre in Summer"
   ]
  },
  {
   "cell_type": "code",
   "execution_count": 194,
   "metadata": {},
   "outputs": [
    {
     "data": {
      "image/png": "[encoded data removed]",
      "text/plain": [
       "<Figure size 864x504 with 1 Axes>"
      ]
     },
     "metadata": {},
     "output_type": "display_data"
    }
   ],
   "source": [
    "ax=sns.barplot(data=summer,order= summer_genres.index[:10],x='new_genres',y='domestic_ROI',palette='Purples_r')\n",
    "ax.set_ylabel('Domestic_ROI')\n",
    "ax.set_xlabel('Genres in Summer')\n",
    "ax.set_title('Top 10 Average Domestic_ROI by Genre')\n",
    "ax.set_xticklabels(ax.get_xticklabels(),rotation=45,ha=\"right\");"
   ]
  },
  {
   "cell_type": "markdown",
   "metadata": {},
   "source": [
    "### Domestic Gross by Genres in Summer"
   ]
  },
  {
   "cell_type": "code",
   "execution_count": 179,
   "metadata": {},
   "outputs": [],
   "source": [
    "#Domestic Gross by Genres in Summer\n",
    "summer_g= genres_df.loc[genres_df['Seasons']=='Summer',['domestic_gross','new_genres']]\n",
    "summer_g_genres=summer_g.groupby('new_genres').mean()['domestic_gross'].sort_values(ascending=False)"
   ]
  },
  {
   "cell_type": "code",
   "execution_count": 177,
   "metadata": {
    "scrolled": false
   },
   "outputs": [
    {
     "data": {
      "image/png": "[encoded data removed]",
      "text/plain": [
       "<Figure size 864x504 with 1 Axes>"
      ]
     },
     "metadata": {},
     "output_type": "display_data"
    }
   ],
   "source": [
    "ax=summer_g_genres.plot(kind='bar',color='coral')\n",
    "ax.set_ylabel('Domestic_Gross')\n",
    "ax.set_xlabel('Genres in Summer')\n",
    "ax.set_title('Domestic Gross by Genres in Summer')\n",
    "ax.set_xticklabels(ax.get_xticklabels(),rotation=90)\n",
    "ax.yaxis.set_major_formatter(form)\n",
    "plt.show()"
   ]
  },
  {
   "cell_type": "markdown",
   "metadata": {},
   "source": [
    "### Top 10 Average Domestic Gross by Genre in Summer"
   ]
  },
  {
   "cell_type": "code",
   "execution_count": 192,
   "metadata": {},
   "outputs": [
    {
     "data": {
      "image/png": "[encoded data removed]",
      "text/plain": [
       "<Figure size 864x504 with 1 Axes>"
      ]
     },
     "metadata": {},
     "output_type": "display_data"
    }
   ],
   "source": [
    "ax=sns.barplot(data=summer_g,order= summer_g_genres.index[:10],x='new_genres',y='domestic_gross',palette='Oranges_r')\n",
    "ax.set_ylabel('Domestic_Gross')\n",
    "ax.set_xlabel('Genres in Summer')\n",
    "ax.set_title('Top 10 Domestic Gross by Genres in Summer')\n",
    "ax.yaxis.set_major_formatter(form)\n",
    "ax.set_xticklabels(ax.get_xticklabels(),rotation=45,ha=\"right\");"
   ]
  },
  {
   "cell_type": "markdown",
   "metadata": {},
   "source": [
    "### Worldwide Gross by Genres in Summer"
   ]
  },
  {
   "cell_type": "code",
   "execution_count": 160,
   "metadata": {},
   "outputs": [],
   "source": [
    "summer_g= genres_df.loc[genres_df['Seasons']=='Summer',['worldwide_gross','new_genres']]\n",
    "summer_g_genres=summer_g.groupby('new_genres').mean()['worldwide_gross'].sort_values(ascending=False)\n"
   ]
  },
  {
   "cell_type": "code",
   "execution_count": 161,
   "metadata": {},
   "outputs": [
    {
     "data": {
      "image/png": "[encoded data removed]",
      "text/plain": [
       "<Figure size 864x504 with 1 Axes>"
      ]
     },
     "metadata": {},
     "output_type": "display_data"
    }
   ],
   "source": [
    "ax=summer_g_genres.plot(kind='bar',color='coral')\n",
    "ax.set_ylabel('Worldwide Gross')\n",
    "ax.set_xlabel('Genres in Summer')\n",
    "ax.set_title('Worldwide Gross by Genres in Summer')\n",
    "ax.set_xticklabels(ax.get_xticklabels(),rotation=90)\n",
    "ax.yaxis.set_major_formatter(form)\n",
    "plt.show()"
   ]
  },
  {
   "cell_type": "markdown",
   "metadata": {},
   "source": [
    "### Top 10 Worldwide Gross by Genres in Summer"
   ]
  },
  {
   "cell_type": "code",
   "execution_count": 175,
   "metadata": {},
   "outputs": [
    {
     "data": {
      "image/png": "[encoded data removed]",
      "text/plain": [
       "<Figure size 864x504 with 1 Axes>"
      ]
     },
     "metadata": {},
     "output_type": "display_data"
    }
   ],
   "source": [
    "ax_d=sns.barplot(data=summer_g,order= summer_g_genres.index[:10],x='new_genres',y='worldwide_gross',palette='Blues_r')\n",
    "ax_d.set_ylabel('Worldwide_Gross')\n",
    "ax_d.set_xlabel('Genres in Summer')\n",
    "ax_d.set_title('Top 10 Worldwide Gross by Genres in Summer')\n",
    "ax_d.yaxis.set_major_formatter(form)\n",
    "#ax_d.set_xticklabels(ax.get_xticklabels(),rotation=45,ha=\"right\");"
   ]
  },
  {
   "cell_type": "code",
   "execution_count": null,
   "metadata": {},
   "outputs": [],
   "source": []
  }
 ],
 "metadata": {
  "kernelspec": {
   "display_name": "Python 3",
   "language": "python",
   "name": "python3"
  },
  "language_info": {
   "codemirror_mode": {
    "name": "ipython",
    "version": 3
   },
   "file_extension": ".py",
   "mimetype": "text/x-python",
   "name": "python",
   "nbconvert_exporter": "python",
   "pygments_lexer": "ipython3",
   "version": "3.8.8"
  },
  "toc": {
   "base_numbering": 1,
   "nav_menu": {},
   "number_sections": true,
   "sideBar": true,
   "skip_h1_title": false,
   "title_cell": "Table of Contents",
   "title_sidebar": "Contents",
   "toc_cell": false,
   "toc_position": {
    "height": "calc(100% - 180px)",
    "left": "10px",
    "top": "150px",
    "width": "186px"
   },
   "toc_section_display": true,
   "toc_window_display": true
  }
 },
 "nbformat": 4,
 "nbformat_minor": 2
}

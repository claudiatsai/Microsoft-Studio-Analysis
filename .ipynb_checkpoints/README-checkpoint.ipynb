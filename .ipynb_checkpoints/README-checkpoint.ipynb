{
 "cells": [
  {
   "cell_type": "markdown",
   "id": "c972997c",
   "metadata": {},
   "source": [
    "# Microsoft Movie Studio Analysis"
   ]
  },
  {
   "cell_type": "markdown",
   "id": "8ac7667a",
   "metadata": {},
   "source": [
    "![alt text here](image/movie_1.JPG)"
   ]
  },
  {
   "cell_type": "markdown",
   "id": "7565045a",
   "metadata": {},
   "source": [
    "#### Picture Source:\n",
    "<br>\n",
    "https://www.ionos.com/digitalguide/online-marketing/online-sales/windows-movie-maker-alternatives/"
   ]
  },
  {
   "cell_type": "markdown",
   "id": "4810f400",
   "metadata": {},
   "source": [
    "## Business Problem\n",
    "<br>\n",
    "Microsoft sees all the big companies creating original video content and they want to get in on the fun. They have decided to create a new movie studio, but they don’t know anything about creating movies.  "
   ]
  },
  {
   "cell_type": "markdown",
   "id": "5ba59d52",
   "metadata": {},
   "source": [
    "## Goals\n",
    "1.Find out worldwide and Domestics Gross by Genres\n",
    "<br>\n",
    "2.Find out the most profitable genres of films\n",
    "<br>\n",
    "3.Find out when to release the film to get highest ROI \n",
    "<br>\n",
    "4.What production budget range is more profitable for movies?"
   ]
  },
  {
   "cell_type": "markdown",
   "id": "ca63a966",
   "metadata": {},
   "source": [
    "## Data Sources\n",
    "Box Office Mojo, IMDB and The Numbers\n"
   ]
  },
  {
   "cell_type": "markdown",
   "id": "ae584f21",
   "metadata": {},
   "source": [
    "## Programming Language and Libraries\n",
    "Python, Numpy, Pandas, Matplotlib and Seaborn"
   ]
  },
  {
   "cell_type": "markdown",
   "id": "e2e6418c",
   "metadata": {},
   "source": [
    "## Data Analysis\n",
    "\n"
   ]
  },
  {
   "cell_type": "markdown",
   "id": "446f46fb",
   "metadata": {},
   "source": [
    "### Domestic Gross by Genres"
   ]
  },
  {
   "cell_type": "markdown",
   "id": "49c8ea9d",
   "metadata": {},
   "source": [
    "![alt text here](image/d_gross_genres.JPG)"
   ]
  },
  {
   "cell_type": "markdown",
   "id": "c52b70b5",
   "metadata": {},
   "source": [
    "<img src='image/d_gross_genres.jpg'>"
   ]
  },
  {
   "cell_type": "markdown",
   "id": "9521fce0",
   "metadata": {},
   "source": [
    "### Worldwide Gross by Genres"
   ]
  },
  {
   "cell_type": "markdown",
   "id": "680cbaec",
   "metadata": {},
   "source": [
    "![alt text here](image/w_gross_genres.jpg)"
   ]
  },
  {
   "cell_type": "markdown",
   "id": "e7fbc2f5",
   "metadata": {},
   "source": [
    "### Top 10 Domestic ROI by Genres"
   ]
  },
  {
   "cell_type": "markdown",
   "id": "db793fd1",
   "metadata": {},
   "source": [
    "![alt text here](image/10d_genres_roi.jpg)"
   ]
  },
  {
   "cell_type": "markdown",
   "id": "b35c8f29",
   "metadata": {},
   "source": [
    "### Top 10 Worldwide ROI by Genres"
   ]
  },
  {
   "cell_type": "markdown",
   "id": "bd5c1f2d",
   "metadata": {},
   "source": [
    "![alt text here](image/10w_genres_roi.jpg)"
   ]
  },
  {
   "cell_type": "markdown",
   "id": "e28ba0b3",
   "metadata": {},
   "source": [
    "### The Month with Highest Domestic ROI "
   ]
  },
  {
   "cell_type": "markdown",
   "id": "0617274a",
   "metadata": {},
   "source": [
    "![alt text here](image/d_roi_month.jpg)"
   ]
  },
  {
   "cell_type": "markdown",
   "id": "15dca19f",
   "metadata": {},
   "source": [
    "### Domestic ROI by Seasons"
   ]
  },
  {
   "cell_type": "markdown",
   "id": "54b68a57",
   "metadata": {},
   "source": [
    "![alt text here](image/d_roi_season.jpg)"
   ]
  },
  {
   "cell_type": "markdown",
   "id": "82867b3f",
   "metadata": {},
   "source": [
    "### Genres with Top 10 Domestic ROI in Summer"
   ]
  },
  {
   "cell_type": "markdown",
   "id": "e62ab683",
   "metadata": {},
   "source": [
    "![alt text here](image/10d_summergen_roi.jpg)"
   ]
  },
  {
   "cell_type": "markdown",
   "id": "bc8947f1",
   "metadata": {},
   "source": [
    "### The Month with Highest Worldwide ROI"
   ]
  },
  {
   "cell_type": "markdown",
   "id": "eb391bef",
   "metadata": {},
   "source": [
    "![alt text here](image/W_roi_month.jpg)"
   ]
  },
  {
   "cell_type": "markdown",
   "id": "6fdd4dea",
   "metadata": {},
   "source": [
    "### Worldwide ROI by Season"
   ]
  },
  {
   "cell_type": "markdown",
   "id": "e5c284e6",
   "metadata": {},
   "source": [
    "![alt text here](image/w_roi_season.jpg)"
   ]
  },
  {
   "cell_type": "code",
   "execution_count": null,
   "id": "a4c6ff77",
   "metadata": {},
   "outputs": [],
   "source": [
    "![alt text here](image/10w_springgen_roi.jpg)"
   ]
  },
  {
   "cell_type": "markdown",
   "id": "5673c770",
   "metadata": {},
   "source": [
    "### Production Budget Distribution"
   ]
  },
  {
   "cell_type": "markdown",
   "id": "6e87f241",
   "metadata": {},
   "source": [
    "![alt text here](image/budget_hist.jpg)"
   ]
  },
  {
   "cell_type": "markdown",
   "id": "07fc5e2f",
   "metadata": {},
   "source": [
    "### Relation between Production Budget and Worldwide Gross"
   ]
  },
  {
   "cell_type": "markdown",
   "id": "19b85fe5",
   "metadata": {},
   "source": [
    "![alt text here](image/r_budget_gross.jpg)"
   ]
  },
  {
   "cell_type": "markdown",
   "id": "0357be31",
   "metadata": {},
   "source": [
    "### Worldwide ROI with High Budget by Genres"
   ]
  },
  {
   "cell_type": "markdown",
   "id": "01b54345",
   "metadata": {},
   "source": [
    "![alt text here](image/high_budget.jpg)"
   ]
  },
  {
   "cell_type": "markdown",
   "id": "187e7fd4",
   "metadata": {},
   "source": [
    "## Conclusion"
   ]
  },
  {
   "cell_type": "markdown",
   "id": "ea15ad00",
   "metadata": {},
   "source": [
    "* Animation, Adventure, Musical, Sci-Fi, and Fantasy are the film types with highest gross domestics and worldwide.\n",
    "* Musical, Horror, Mystery, Family and Sport are the film types with highest domestic ROI .\n",
    "* Musical, Horror, Mystery, Family and Animation are the film types with highest worldwide ROI.\n",
    "* Summer is the season with the highest average domestic ROI, especially in July.\n",
    "* Spring is the season with the highest average \n",
    "worldwide ROI, especially in April.\n",
    "* The films with higher production budget would bring in higher gross."
   ]
  },
  {
   "cell_type": "markdown",
   "id": "d0bee2bc",
   "metadata": {},
   "source": [
    "## Next Steps\n",
    "\n"
   ]
  },
  {
   "cell_type": "markdown",
   "id": "13422d93",
   "metadata": {},
   "source": [
    "* Further analyses could yield additional insights to movies' net profit.\n",
    "* Data for percentage to distributors might help to determine if the film is profitable.\n",
    "* Due to the pandemic, movie studios released movies online only or online and in theaters.  An analysis of streaming service revenues could help decision-making of film types Microsoft going to make. \n",
    "* An analysis of streaming platforms’ data could provide more ideas of content making.\n"
   ]
  },
  {
   "cell_type": "code",
   "execution_count": null,
   "id": "ce445b87",
   "metadata": {},
   "outputs": [],
   "source": []
  }
 ],
 "metadata": {
  "kernelspec": {
   "display_name": "Python 3",
   "language": "python",
   "name": "python3"
  },
  "language_info": {
   "codemirror_mode": {
    "name": "ipython",
    "version": 3
   },
   "file_extension": ".py",
   "mimetype": "text/x-python",
   "name": "python",
   "nbconvert_exporter": "python",
   "pygments_lexer": "ipython3",
   "version": "3.8.8"
  },
  "toc": {
   "base_numbering": 1,
   "nav_menu": {},
   "number_sections": false,
   "sideBar": true,
   "skip_h1_title": false,
   "title_cell": "Table of Contents",
   "title_sidebar": "Contents",
   "toc_cell": false,
   "toc_position": {},
   "toc_section_display": true,
   "toc_window_display": true
  }
 },
 "nbformat": 4,
 "nbformat_minor": 5
}

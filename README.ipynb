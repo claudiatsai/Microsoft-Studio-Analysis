{
 "cells": [
  {
   "cell_type": "markdown",
   "id": "c972997c",
   "metadata": {},
   "source": [
    "# Microsoft Movie Studio Analysis"
   ]
  },
  {
   "cell_type": "markdown",
   "id": "924548f1",
   "metadata": {},
   "source": [
    "<img src=\"image/movie_1.jpg\">"
   ]
  },
  {
   "cell_type": "markdown",
   "id": "f7bf12c0",
   "metadata": {},
   "source": [
    "#### Picture Source:\n",
    "<br>\n",
    "https://www.ionos.com/digitalguide/online-marketing/online-sales/windows-movie-maker-alternatives/"
   ]
  },
  {
   "cell_type": "markdown",
   "id": "4810f400",
   "metadata": {},
   "source": [
    "## Business Problem\n",
    "<br>\n",
    "Microsoft sees all the big companies creating original video content and they want to get in on the fun. They have decided to create a new movie studio, but they don’t know anything about creating movies.  "
   ]
  },
  {
   "cell_type": "markdown",
   "id": "5ba59d52",
   "metadata": {},
   "source": [
    "## Goals\n",
    "1.Find out worldwide and Domestics Gross by Genres\n",
    "<br>\n",
    "2.Find out the most profitable genres of films\n",
    "<br>\n",
    "3.Find out when to release the film to get highest ROI \n",
    "<br>\n",
    "4.What production budget range is more profitable for movies?"
   ]
  },
  {
   "cell_type": "markdown",
   "id": "ca63a966",
   "metadata": {},
   "source": [
    "## Data Sources\n",
    "Box Office Mojo, IMDB and The Numbers\n"
   ]
  },
  {
   "cell_type": "markdown",
   "id": "ae584f21",
   "metadata": {},
   "source": [
    "## Programming Language and Libraries\n",
    "Python, Numpy, Pandas, Matplotlib and Seaborn"
   ]
  },
  {
   "cell_type": "markdown",
   "id": "e2e6418c",
   "metadata": {},
   "source": [
    "## Data Analysis\n",
    "\n"
   ]
  },
  {
   "cell_type": "markdown",
   "id": "426be9ab",
   "metadata": {},
   "source": [
    "### Domestic Gross by Genres"
   ]
  },
  {
   "cell_type": "markdown",
   "id": "6513e6af",
   "metadata": {},
   "source": [
    "<img src=\"image/d_gross_genres.JPG\">"
   ]
  },
  {
   "cell_type": "markdown",
   "id": "3eacb456",
   "metadata": {},
   "source": [
    "### Worldwide Gross by Genres"
   ]
  },
  {
   "cell_type": "markdown",
   "id": "8bacdec1",
   "metadata": {},
   "source": [
    "![alt text here](image/w_gross_genres.JPG)"
   ]
  },
  {
   "cell_type": "markdown",
   "id": "b8a13722",
   "metadata": {},
   "source": [
    "### Top 10 Domestic ROI by Genres"
   ]
  },
  {
   "cell_type": "markdown",
   "id": "db5d4876",
   "metadata": {},
   "source": [
    "![alt text here](image/10d_genres_roi.JPG)"
   ]
  },
  {
   "cell_type": "markdown",
   "id": "0712c7b4",
   "metadata": {},
   "source": [
    "### Top 10 Worldwide ROI by Genres"
   ]
  },
  {
   "cell_type": "markdown",
   "id": "6a65712d",
   "metadata": {},
   "source": [
    "![alt text here](image/10w_genres_roi.JPG)"
   ]
  },
  {
   "cell_type": "markdown",
   "id": "a3ceb44d",
   "metadata": {},
   "source": [
    "### The Month with Highest Domestic ROI "
   ]
  },
  {
   "cell_type": "markdown",
   "id": "94fcb45e",
   "metadata": {},
   "source": [
    "![alt text here](image/d_roi_month.jpg)"
   ]
  },
  {
   "cell_type": "markdown",
   "id": "7c3367a2",
   "metadata": {},
   "source": [
    "### Domestic ROI by Seasons"
   ]
  },
  {
   "cell_type": "markdown",
   "id": "dcfc2bff",
   "metadata": {},
   "source": [
    "![alt text here](image/d_roi_season.JPG)"
   ]
  },
  {
   "cell_type": "markdown",
   "id": "b3e1cd7c",
   "metadata": {},
   "source": [
    "### Genres with Top 10 Domestic ROI in Summer"
   ]
  },
  {
   "cell_type": "markdown",
   "id": "2411647a",
   "metadata": {},
   "source": [
    "![alt text here](image/10d_summergen_roi.JPG)"
   ]
  },
  {
   "cell_type": "markdown",
   "id": "bc8947f1",
   "metadata": {},
   "source": [
    "### The Month with Highest Worldwide ROI"
   ]
  },
  {
   "cell_type": "markdown",
   "id": "ab7847b4",
   "metadata": {},
   "source": [
    "![alt text here](image/W_roi_month.JPG)"
   ]
  },
  {
   "cell_type": "markdown",
   "id": "54605fa3",
   "metadata": {},
   "source": [
    "### Worldwide ROI by Season"
   ]
  },
  {
   "cell_type": "markdown",
   "id": "b05895fb",
   "metadata": {},
   "source": [
    "![alt text here](image/w_roi_season.JPG)"
   ]
  },
  {
   "cell_type": "markdown",
   "id": "8f60b169",
   "metadata": {},
   "source": [
    "![alt text here](image/10w_springgen_gross.JPG)"
   ]
  },
  {
   "cell_type": "markdown",
   "id": "1f0a4ab6",
   "metadata": {},
   "source": [
    "### Production Budget Distribution"
   ]
  },
  {
   "cell_type": "markdown",
   "id": "859be0d0",
   "metadata": {},
   "source": [
    "![alt text here](image/budget_hist.JPG)"
   ]
  },
  {
   "cell_type": "markdown",
   "id": "26159a38",
   "metadata": {},
   "source": [
    "### Relation between Production Budget and Worldwide Gross"
   ]
  },
  {
   "cell_type": "markdown",
   "id": "ab482baa",
   "metadata": {},
   "source": [
    "![alt text here](image/r_budget_gross.jpg)"
   ]
  },
  {
   "cell_type": "markdown",
   "id": "cbf1f1a3",
   "metadata": {},
   "source": [
    "### Worldwide ROI with High Budget by Genres"
   ]
  },
  {
   "cell_type": "markdown",
   "id": "5676c81b",
   "metadata": {},
   "source": [
    "![alt text here](image/high_budget.JPG)"
   ]
  },
  {
   "cell_type": "markdown",
   "id": "187e7fd4",
   "metadata": {},
   "source": [
    "## Conclusion"
   ]
  },
  {
   "cell_type": "markdown",
   "id": "71a089f9",
   "metadata": {},
   "source": [
    "* Animation, Adventure, Musical, Sci-Fi, and Fantasy are the film types with highest gross domestics and worldwide.\n",
    "* Musical, Horror, Mystery, Family and Sport are the film types with highest domestic ROI .\n",
    "* Musical, Horror, Mystery, Family and Animation are the film types with highest worldwide ROI.\n",
    "* Summer is the season with the highest average domestic ROI, especially in July.\n",
    "* Spring is the season with the highest average \n",
    "worldwide ROI, especially in April.\n",
    "* The films with higher production budget would bring in higher gross."
   ]
  },
  {
   "cell_type": "markdown",
   "id": "d0bee2bc",
   "metadata": {},
   "source": [
    "## Next Steps\n",
    "\n"
   ]
  },
  {
   "cell_type": "markdown",
   "id": "89766c39",
   "metadata": {},
   "source": [
    "* Further analyses could yield additional insights to movies' net profit.\n",
    "* Data for percentage to distributors might help to determine if the film is profitable.\n",
    "* Due to the pandemic, movie studios released movies online only or online and in theaters.  An analysis of streaming services provided by movie studio is also helpful on decision making.\n",
    "* An analysis of streaming platforms’ data could provide more ideas of content making.\n"
   ]
  }
 ],
 "metadata": {
  "kernelspec": {
   "display_name": "Python 3",
   "language": "python",
   "name": "python3"
  },
  "language_info": {
   "codemirror_mode": {
    "name": "ipython",
    "version": 3
   },
   "file_extension": ".py",
   "mimetype": "text/x-python",
   "name": "python",
   "nbconvert_exporter": "python",
   "pygments_lexer": "ipython3",
   "version": "3.8.8"
  },
  "toc": {
   "base_numbering": 1,
   "nav_menu": {},
   "number_sections": false,
   "sideBar": true,
   "skip_h1_title": false,
   "title_cell": "Table of Contents",
   "title_sidebar": "Contents",
   "toc_cell": false,
   "toc_position": {},
   "toc_section_display": true,
   "toc_window_display": true
  }
 },
 "nbformat": 4,
 "nbformat_minor": 5
}
